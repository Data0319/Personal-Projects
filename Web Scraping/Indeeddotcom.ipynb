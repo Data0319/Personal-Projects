{
 "cells": [
  {
   "cell_type": "markdown",
   "metadata": {},
   "source": [
    "# I. Information\n",
    "\n",
    "## Assignment Group\n",
    "- Linxia Liu (Student ID: 91714380)\n",
    "- Sneha Lakshmikanthaiah (Student ID: 37889217)\n",
    "- Vivian Kang (Student ID: 66723308)\n",
    "- Yuan Liu (Student ID: 67529164)\n",
    "- Zelong Qian (Student ID: 54954268)\n",
    "\n",
    "## People I discussed with\n",
    "- Teng-yun (Jacob) Chung\n",
    "- Kuang (Steven) Li\n",
    "- Takako (Tako) Suzuki\n",
    "\n",
    "# II. Group Assignment (100 points):\n",
    "\n",
    "## Instructions:\n",
    "This group assignment has two questions:\n",
    "\n",
    "## Question 1 (50 points):\n",
    "- Visit https://www.indeed.com/m/ website and search for Data Scientist in Los Angles. Now click on the “Find Jobs” button and you will be able to see the search results. Please find the top 200 jobs and obtain the frequencies of jobs that mention C, C++, Java, Javascript, Python, R, SQL, Hadoop, Hive, Pig, Spark, AWS and Tableau, respectively.\n",
    "- Bonus question (10 points): compare the skill frequencies for Data Science jobs in San Francisco, Los Angeles, New York, Boston, Chicago, Austin and DC."
   ]
  },
  {
   "cell_type": "code",
   "execution_count": 394,
   "metadata": {},
   "outputs": [],
   "source": [
    "# Import the necessary packages\n",
    "from bs4 import BeautifulSoup\n",
    "from urllib.request import urlopen\n",
    "import urllib\n",
    "import re\n",
    "import pandas as pd\n",
    "import requests\n",
    "import time"
   ]
  },
  {
   "cell_type": "markdown",
   "metadata": {},
   "source": [
    "### 1. Skill frequencies of top-200 data scientist jobs in LA"
   ]
  },
  {
   "cell_type": "code",
   "execution_count": 395,
   "metadata": {},
   "outputs": [
    {
     "name": "stdout",
     "output_type": "stream",
     "text": [
      "viewjob?jk=1544ab41b4dc02b6\n",
      "viewjob?jk=f934053f9fe92002\n",
      "viewjob?jk=62dc47ed846b673e\n",
      "viewjob?jk=d3b546ac10f53697\n",
      "viewjob?jk=0ee0ae6ba0ed34f5\n",
      "viewjob?jk=f6576c3ba5851dbb\n",
      "viewjob?jk=6a6ff0c126941898\n",
      "viewjob?jk=4d807d29d853782a\n",
      "viewjob?jk=813cbe25db81910c\n",
      "viewjob?jk=a1faab394888c6cd\n",
      "https://www.indeed.com/m/jobs?q=data+scientist&l=Los+Angeles&start=0\n",
      "10\n",
      "viewjob?jk=34daff62bfb450bd\n",
      "viewjob?jk=6a6ff0c126941898\n",
      "viewjob?jk=451d04bfb6ce88fe\n",
      "viewjob?jk=07d4ed2f644971ad\n",
      "viewjob?jk=74463ea550f38af8\n",
      "viewjob?jk=4f8df9ddc6e2aa93\n",
      "viewjob?jk=293164549f370d1d\n",
      "viewjob?jk=71328b18251c983e\n",
      "viewjob?jk=c3034272f6cbc073\n",
      "viewjob?jk=7ac2a6dd1ffca117\n",
      "https://www.indeed.com/m/jobs?q=data+scientist&l=Los+Angeles&start=10\n",
      "20\n",
      "viewjob?jk=ba7f15339dac5d96\n",
      "viewjob?jk=c3034272f6cbc073\n",
      "viewjob?jk=07d4ed2f644971ad\n",
      "viewjob?jk=2efe40d815e4bd1f\n",
      "viewjob?jk=4f8df9ddc6e2aa93\n",
      "viewjob?jk=7bd3fdd239a531cd\n",
      "viewjob?jk=77439bf7fef5b438\n",
      "viewjob?jk=34daff62bfb450bd\n",
      "viewjob?jk=5e76b05b198860b3\n",
      "viewjob?jk=141016bda21cb7a8\n",
      "https://www.indeed.com/m/jobs?q=data+scientist&l=Los+Angeles&start=20\n",
      "30\n",
      "viewjob?jk=dd862b8711306a3b\n",
      "viewjob?jk=5047f876c63c5858\n",
      "viewjob?jk=ec8f01609b6e4659\n",
      "viewjob?jk=209732a98b484772\n",
      "viewjob?jk=451d04bfb6ce88fe\n",
      "viewjob?jk=fe130ff9fa5a4d5d\n",
      "viewjob?jk=d844c488567bdd4d\n",
      "viewjob?jk=cc3fe0aed55078e3\n",
      "viewjob?jk=e7f052d256c42e1d\n",
      "viewjob?jk=71f60916ae10b487\n",
      "https://www.indeed.com/m/jobs?q=data+scientist&l=Los+Angeles&start=30\n",
      "40\n",
      "viewjob?jk=5610c3d0e036b6e2\n",
      "viewjob?jk=80ef4d1dc297049a\n",
      "viewjob?jk=8c3d80d4c08743b0\n",
      "viewjob?jk=293164549f370d1d\n",
      "viewjob?jk=2f8a85ef44dd1907\n",
      "viewjob?jk=ddbae3ea725bfc92\n",
      "viewjob?jk=fd35e60465d2db46\n",
      "viewjob?jk=f27521da38c0e2c2\n",
      "viewjob?jk=251f4a6e912f6023\n",
      "viewjob?jk=69e45af1f17a70b0\n",
      "https://www.indeed.com/m/jobs?q=data+scientist&l=Los+Angeles&start=40\n",
      "50\n",
      "viewjob?jk=c8027d26e43b6dd9\n",
      "viewjob?jk=7c77ea2aedef6026\n",
      "viewjob?jk=8aafdc4c7c7cc084\n",
      "viewjob?jk=d4319f894fc21868\n",
      "viewjob?jk=150cda932b253627\n",
      "viewjob?jk=6c407fbd4593c78f\n",
      "viewjob?jk=8f814495f68d9cec\n",
      "viewjob?jk=70adea5f1df3ff81\n",
      "viewjob?jk=e8c980d6f0e26a1d\n",
      "viewjob?jk=bebf4985d2218ba8\n",
      "https://www.indeed.com/m/jobs?q=data+scientist&l=Los+Angeles&start=50\n",
      "60\n",
      "viewjob?jk=bebf4985d2218ba8\n",
      "viewjob?jk=3e3afba2e3dd35c2\n",
      "viewjob?jk=d4319f894fc21868\n",
      "viewjob?jk=c62730ff8dd3076d\n",
      "viewjob?jk=0410b4cd5db34fec\n",
      "viewjob?jk=18c4175926502a1e\n",
      "viewjob?jk=7924de2334600114\n",
      "viewjob?jk=8f814495f68d9cec\n",
      "viewjob?jk=8a4dd381cc40169b\n",
      "viewjob?jk=570a5030209d8f35\n",
      "https://www.indeed.com/m/jobs?q=data+scientist&l=Los+Angeles&start=60\n",
      "70\n",
      "viewjob?jk=e89a1ca8147007e0\n",
      "viewjob?jk=923ddcd9ddfe3978\n",
      "viewjob?jk=08776207c2788877\n",
      "viewjob?jk=6a01e06de6869311\n",
      "viewjob?jk=2bc1fdc22f520c1b\n",
      "viewjob?jk=8cf1b8bee5013354\n",
      "viewjob?jk=01a48619e6e1caf8\n",
      "viewjob?jk=817bc47e464185b5\n",
      "viewjob?jk=570a5030209d8f35\n",
      "viewjob?jk=0af01defbb7cf786\n",
      "https://www.indeed.com/m/jobs?q=data+scientist&l=Los+Angeles&start=70\n",
      "80\n",
      "viewjob?jk=5a34931843caa689\n",
      "viewjob?jk=72baee28f673b6f4\n",
      "viewjob?jk=acae8a7837998e55\n",
      "viewjob?jk=1eec6491a3a43845\n",
      "viewjob?jk=4a43e4f0eb37cf90\n",
      "viewjob?jk=5bff7b10af1ad250\n",
      "viewjob?jk=7944ec3791f3351f\n",
      "viewjob?jk=f9d96a7eefe3196f\n",
      "viewjob?jk=a20037f7b8f50be4\n",
      "viewjob?jk=e9547f527284357e\n",
      "https://www.indeed.com/m/jobs?q=data+scientist&l=Los+Angeles&start=80\n",
      "90\n",
      "viewjob?jk=4a43e4f0eb37cf90\n",
      "viewjob?jk=e9547f527284357e\n",
      "viewjob?jk=a20037f7b8f50be4\n",
      "viewjob?jk=bc9bc5dfae362f95\n",
      "viewjob?jk=00aa222c0c8079bb\n",
      "viewjob?jk=4cac34278b98c523\n",
      "viewjob?jk=309f4c6cb23fc015\n",
      "viewjob?jk=f9afb21b4a0dca74\n",
      "viewjob?jk=dd383ed8d2ced2cb\n",
      "viewjob?jk=33430bb8e6c5ff28\n",
      "https://www.indeed.com/m/jobs?q=data+scientist&l=Los+Angeles&start=90\n",
      "100\n",
      "viewjob?jk=f9afb21b4a0dca74\n",
      "viewjob?jk=309f4c6cb23fc015\n",
      "viewjob?jk=33430bb8e6c5ff28\n",
      "viewjob?jk=478a477de201c1f6\n",
      "viewjob?jk=12c82c69ee4c02ea\n",
      "viewjob?jk=350991e7d28f7aee\n",
      "viewjob?jk=58d01bd02f453ffb\n",
      "viewjob?jk=caa6a7667c4c12be\n",
      "viewjob?jk=1f76e030b696361f\n",
      "viewjob?jk=dd383ed8d2ced2cb\n",
      "https://www.indeed.com/m/jobs?q=data+scientist&l=Los+Angeles&start=100\n",
      "110\n",
      "viewjob?jk=667d605dee91f834\n",
      "viewjob?jk=997a2e34c2a66028\n",
      "viewjob?jk=d88cb961b306b556\n",
      "viewjob?jk=79902c3709ec4de6\n",
      "viewjob?jk=72ac09d6947fcac4\n",
      "viewjob?jk=148461916cd9132d\n",
      "viewjob?jk=4e4800460c66984b\n",
      "viewjob?jk=05275396475eff86\n",
      "viewjob?jk=edff9ce91fac80bb\n",
      "viewjob?jk=a6c2ba701b65b49e\n",
      "https://www.indeed.com/m/jobs?q=data+scientist&l=Los+Angeles&start=110\n",
      "120\n",
      "viewjob?jk=37390997f1283cb0\n",
      "viewjob?jk=f4c99271a4543990\n",
      "viewjob?jk=0180704593ee493f\n",
      "viewjob?jk=c15d088657473ebd\n",
      "viewjob?jk=0617bd2382061430\n",
      "viewjob?jk=c24a7d3091126e62\n",
      "viewjob?jk=1b4c9fbad382d0b4\n",
      "viewjob?jk=5680f1b24aa9e955\n",
      "viewjob?jk=2507ea499b745a94\n",
      "viewjob?jk=ea3f0b4edcf32f27\n",
      "https://www.indeed.com/m/jobs?q=data+scientist&l=Los+Angeles&start=120\n",
      "130\n",
      "viewjob?jk=b5ef286eb5ffcd83\n",
      "viewjob?jk=17f684d9ca0bb0bb\n",
      "viewjob?jk=ae493eeb754434d6\n",
      "viewjob?jk=dadf19e7546cb143\n",
      "viewjob?jk=2da6350d90be8f5e\n",
      "viewjob?jk=e15817b0b1cfd07f\n",
      "viewjob?jk=100b0e4058ef73fb\n",
      "viewjob?jk=eb947ebf533b16b9\n",
      "viewjob?jk=39912f321a4df5f0\n",
      "viewjob?jk=c84d924917412679\n",
      "https://www.indeed.com/m/jobs?q=data+scientist&l=Los+Angeles&start=130\n",
      "140\n",
      "viewjob?jk=de57ef2963876637\n",
      "viewjob?jk=ee4f451e50f11985\n",
      "viewjob?jk=425f33cc0562fb07\n",
      "viewjob?jk=d14ad9e6cec33001\n",
      "viewjob?jk=2507ea499b745a94\n",
      "viewjob?jk=3165ad22d04e5f13\n",
      "viewjob?jk=68083c46f6f21a54\n",
      "viewjob?jk=100b0e4058ef73fb\n",
      "viewjob?jk=eb947ebf533b16b9\n",
      "viewjob?jk=90da06e8d0001659\n",
      "https://www.indeed.com/m/jobs?q=data+scientist&l=Los+Angeles&start=140\n",
      "150\n",
      "viewjob?jk=f7d6b273d2163be2\n",
      "viewjob?jk=42d7fa198fbc6441\n",
      "viewjob?jk=0e5ad0d20c2e40c9\n",
      "viewjob?jk=055c4c45a20864ca\n",
      "viewjob?jk=f0df0b59d94a8323\n",
      "viewjob?jk=8c7be203a8dea2e2\n",
      "viewjob?jk=8ff39447fbcd1634\n",
      "viewjob?jk=a2797846c46564ad\n",
      "viewjob?jk=f7f5d458c42468c1\n",
      "viewjob?jk=a71139883fb9a660\n",
      "https://www.indeed.com/m/jobs?q=data+scientist&l=Los+Angeles&start=150\n",
      "160\n",
      "viewjob?jk=460399418027978f\n",
      "viewjob?jk=69019e980f19138f\n",
      "viewjob?jk=c85a4dcb0f5695ca\n",
      "viewjob?jk=1abb1d46dd2c4f93\n",
      "viewjob?jk=38c288c721055f72\n",
      "viewjob?jk=c73c1fe7c0cca6f9\n",
      "viewjob?jk=51c9b9bd426dc146\n",
      "viewjob?jk=f2a02eccb48833d1\n",
      "viewjob?jk=b6bed1a33a5ad402\n",
      "viewjob?jk=5f2c2ac292c20bf9\n",
      "https://www.indeed.com/m/jobs?q=data+scientist&l=Los+Angeles&start=160\n",
      "170\n",
      "viewjob?jk=b82921775d6c1986\n",
      "viewjob?jk=264d3cd73f95eef9\n",
      "viewjob?jk=3dde5b9a870e53f4\n",
      "viewjob?jk=4387dc8373c68406\n",
      "viewjob?jk=bbff6d163ea8cb35\n",
      "viewjob?jk=99da3485fe351bee\n",
      "viewjob?jk=52b3dd697a703235\n",
      "viewjob?jk=6eb775bea073cc7a\n",
      "viewjob?jk=80a6ea16cac41eeb\n",
      "viewjob?jk=373716885d5ca5b2\n",
      "https://www.indeed.com/m/jobs?q=data+scientist&l=Los+Angeles&start=170\n",
      "180\n",
      "viewjob?jk=c50b65df87834547\n",
      "viewjob?jk=58ff815be6441d03\n",
      "viewjob?jk=f626fe65f7538298\n",
      "viewjob?jk=545bbd5f433297d3\n",
      "viewjob?jk=1a848efed5760942\n",
      "viewjob?jk=761b76c7d14fe38b\n",
      "viewjob?jk=5b3b813d7106e188\n",
      "viewjob?jk=c4e6b02a70ee0bdb\n",
      "viewjob?jk=ca7611a3be0d8115\n",
      "viewjob?jk=e64db8d335c0c727\n",
      "https://www.indeed.com/m/jobs?q=data+scientist&l=Los+Angeles&start=180\n",
      "190\n",
      "viewjob?jk=bcf23ee495256afb\n",
      "viewjob?jk=a2e1f4e210b82c90\n",
      "viewjob?jk=0de104689a6fb02b\n",
      "viewjob?jk=abcef9356076d3cc\n",
      "viewjob?jk=ba3ffdef60de7981\n",
      "viewjob?jk=e2cea335bd49ff59\n",
      "viewjob?jk=2f5cd95f7849a6c5\n",
      "viewjob?jk=c23e561bcb28bc8d\n",
      "viewjob?jk=8e36324bb4649a44\n",
      "viewjob?jk=6f6067bea8249ad2\n",
      "https://www.indeed.com/m/jobs?q=data+scientist&l=Los+Angeles&start=190\n",
      "200\n"
     ]
    }
   ],
   "source": [
    "# Testing the for loop to ensure that page switching is working\n",
    "# In total, 200 jobs are obtained from web\n",
    "lst = []\n",
    "url = \"https://www.indeed.com/m/jobs?q=data+scientist&l=Los+Angeles&start=0\"\n",
    "for i in range(20):\n",
    "    \n",
    "    page = urlopen(url)\n",
    "    time.sleep(3)\n",
    "    soup = BeautifulSoup(page, 'lxml')\n",
    "    all_matches = soup.findAll(name = 'h2', attrs = {'class':['jobTitle']})\n",
    "    for each in all_matches:\n",
    "        print(each.a['href'])\n",
    "        lst.append(each.a['href'])\n",
    "    \n",
    "    print(url)\n",
    "    print(len(lst))\n",
    "    url = 'https://www.indeed.com/m/jobs?q=data+scientist&l=Los+Angeles&start=' + str((i+1)*10)"
   ]
  },
  {
   "cell_type": "code",
   "execution_count": 396,
   "metadata": {
    "scrolled": true
   },
   "outputs": [
    {
     "name": "stdout",
     "output_type": "stream",
     "text": [
      "https://www.indeed.com/m/jobs?q=data+scientist&l=Los+Angeles&start=0\n",
      "10\n",
      "https://www.indeed.com/m/jobs?q=data+scientist&l=Los+Angeles&start=10\n",
      "20\n",
      "https://www.indeed.com/m/jobs?q=data+scientist&l=Los+Angeles&start=20\n",
      "30\n",
      "https://www.indeed.com/m/jobs?q=data+scientist&l=Los+Angeles&start=30\n",
      "40\n",
      "https://www.indeed.com/m/jobs?q=data+scientist&l=Los+Angeles&start=40\n",
      "50\n",
      "https://www.indeed.com/m/jobs?q=data+scientist&l=Los+Angeles&start=50\n",
      "60\n",
      "https://www.indeed.com/m/jobs?q=data+scientist&l=Los+Angeles&start=60\n",
      "70\n",
      "https://www.indeed.com/m/jobs?q=data+scientist&l=Los+Angeles&start=70\n",
      "80\n",
      "https://www.indeed.com/m/jobs?q=data+scientist&l=Los+Angeles&start=80\n",
      "90\n",
      "https://www.indeed.com/m/jobs?q=data+scientist&l=Los+Angeles&start=90\n",
      "100\n",
      "https://www.indeed.com/m/jobs?q=data+scientist&l=Los+Angeles&start=100\n",
      "110\n",
      "https://www.indeed.com/m/jobs?q=data+scientist&l=Los+Angeles&start=110\n",
      "120\n",
      "https://www.indeed.com/m/jobs?q=data+scientist&l=Los+Angeles&start=120\n",
      "130\n",
      "https://www.indeed.com/m/jobs?q=data+scientist&l=Los+Angeles&start=130\n",
      "140\n",
      "https://www.indeed.com/m/jobs?q=data+scientist&l=Los+Angeles&start=140\n",
      "150\n",
      "https://www.indeed.com/m/jobs?q=data+scientist&l=Los+Angeles&start=150\n",
      "160\n",
      "https://www.indeed.com/m/jobs?q=data+scientist&l=Los+Angeles&start=160\n",
      "170\n",
      "https://www.indeed.com/m/jobs?q=data+scientist&l=Los+Angeles&start=170\n",
      "180\n",
      "https://www.indeed.com/m/jobs?q=data+scientist&l=Los+Angeles&start=180\n",
      "190\n",
      "https://www.indeed.com/m/jobs?q=data+scientist&l=Los+Angeles&start=190\n",
      "200\n"
     ]
    }
   ],
   "source": [
    "# Build up for loops to obtain the required information from web\n",
    "# Page changing function is added, and the progress is tracked \n",
    "title = []\n",
    "company = []\n",
    "location = []\n",
    "jd = []\n",
    "lst = []\n",
    "url = \"https://www.indeed.com/m/jobs?q=data+scientist&l=Los+Angeles&start=0\"\n",
    "for i in range(20):\n",
    "    \n",
    "    page = urlopen(url)\n",
    "    time.sleep(5)\n",
    "    soup = BeautifulSoup(page, 'lxml')\n",
    "    all_matches = soup.findAll(name = 'h2', attrs = {'class':['jobTitle']})\n",
    "    for each in all_matches:\n",
    "        jd_url = 'http://www.indeed.com/m/'+ each.a['href']\n",
    "        lst.append(each.a['href'])\n",
    "        jd_page = urlopen(jd_url)\n",
    "        jd_soup = BeautifulSoup(jd_page, 'lxml')\n",
    "        jd_desc = jd_soup.findAll(attrs = {'id':['desc']})\n",
    "        title.append(jd_soup.body.p.b.font.text)\n",
    "        company.append(jd_desc[0].span.text)\n",
    "        location.append(jd_soup.body.p.span.text)\n",
    "        jd.append(jd_desc[0].text)\n",
    "        \n",
    "  \n",
    "    print(url)\n",
    "    print(len(lst))\n",
    "    url = 'https://www.indeed.com/m/jobs?q=data+scientist&l=Los+Angeles&start=' + str((i+1)*10)"
   ]
  },
  {
   "cell_type": "code",
   "execution_count": 397,
   "metadata": {},
   "outputs": [],
   "source": [
    "# Convert the information into a dataframe for further analysis\n",
    "job = {'title': title,\n",
    "         'company': company,\n",
    "         'location': location,\n",
    "         'Description': jd}\n",
    "df = pd.DataFrame.from_dict(job)"
   ]
  },
  {
   "cell_type": "code",
   "execution_count": 398,
   "metadata": {},
   "outputs": [
    {
     "data": {
      "text/html": [
       "<div>\n",
       "<style scoped>\n",
       "    .dataframe tbody tr th:only-of-type {\n",
       "        vertical-align: middle;\n",
       "    }\n",
       "\n",
       "    .dataframe tbody tr th {\n",
       "        vertical-align: top;\n",
       "    }\n",
       "\n",
       "    .dataframe thead th {\n",
       "        text-align: right;\n",
       "    }\n",
       "</style>\n",
       "<table border=\"1\" class=\"dataframe\">\n",
       "  <thead>\n",
       "    <tr style=\"text-align: right;\">\n",
       "      <th></th>\n",
       "      <th>title</th>\n",
       "      <th>company</th>\n",
       "      <th>location</th>\n",
       "      <th>Description</th>\n",
       "    </tr>\n",
       "  </thead>\n",
       "  <tbody>\n",
       "    <tr>\n",
       "      <td>0</td>\n",
       "      <td>Data Scientist</td>\n",
       "      <td>Deloitte</td>\n",
       "      <td>Los Angeles, CA 90013</td>\n",
       "      <td>Deloitte Services LP includes internal support...</td>\n",
       "    </tr>\n",
       "    <tr>\n",
       "      <td>1</td>\n",
       "      <td>Data Scientist</td>\n",
       "      <td>AvantStay</td>\n",
       "      <td>Los Angeles, CA</td>\n",
       "      <td>Who we are...\\nAvantStay delivers exceptional,...</td>\n",
       "    </tr>\n",
       "    <tr>\n",
       "      <td>2</td>\n",
       "      <td>Data Scientist I - (Part-time)</td>\n",
       "      <td>Columbus Technologies and Services, Inc.</td>\n",
       "      <td>Pasadena, CA 91101</td>\n",
       "      <td>Must be a US Citizen\\nEstimated duration of 12...</td>\n",
       "    </tr>\n",
       "    <tr>\n",
       "      <td>3</td>\n",
       "      <td>Data Scientist</td>\n",
       "      <td>Age of Learning</td>\n",
       "      <td>Glendale, CA 91203</td>\n",
       "      <td>Company Overview:\\nAge of Learning is a leadin...</td>\n",
       "    </tr>\n",
       "    <tr>\n",
       "      <td>4</td>\n",
       "      <td>Data Scientist</td>\n",
       "      <td>GOAT</td>\n",
       "      <td>Los Angeles, CA</td>\n",
       "      <td>With over 20 million members, GOAT is the worl...</td>\n",
       "    </tr>\n",
       "    <tr>\n",
       "      <td>...</td>\n",
       "      <td>...</td>\n",
       "      <td>...</td>\n",
       "      <td>...</td>\n",
       "      <td>...</td>\n",
       "    </tr>\n",
       "    <tr>\n",
       "      <td>195</td>\n",
       "      <td>Machine Learning Engineer</td>\n",
       "      <td>Oben</td>\n",
       "      <td>Pasadena, CA</td>\n",
       "      <td>As a member of the machine language translatio...</td>\n",
       "    </tr>\n",
       "    <tr>\n",
       "      <td>196</td>\n",
       "      <td>Sr. Data Analyst</td>\n",
       "      <td>Honk</td>\n",
       "      <td>Los Angeles, CA 90064</td>\n",
       "      <td>HONK is a fast growing technology company disr...</td>\n",
       "    </tr>\n",
       "    <tr>\n",
       "      <td>197</td>\n",
       "      <td>VP, Data Science, Business Intelligence &amp; Data...</td>\n",
       "      <td>NBCUniversal</td>\n",
       "      <td>Universal City, CA</td>\n",
       "      <td>Role Summary:\\nNBC Entertainment Digital is lo...</td>\n",
       "    </tr>\n",
       "    <tr>\n",
       "      <td>198</td>\n",
       "      <td>Data Analyst - Health, Senior</td>\n",
       "      <td>Blue Shield of California</td>\n",
       "      <td>Monterey Park, CA</td>\n",
       "      <td>GENERAL SUMMARY:\\n\\nWe are hiring for a Senior...</td>\n",
       "    </tr>\n",
       "    <tr>\n",
       "      <td>199</td>\n",
       "      <td>Senior Data Analyst</td>\n",
       "      <td>Honey</td>\n",
       "      <td>Los Angeles, CA 90067</td>\n",
       "      <td>Honey is a fast-growing startup based in Los A...</td>\n",
       "    </tr>\n",
       "  </tbody>\n",
       "</table>\n",
       "<p>200 rows × 4 columns</p>\n",
       "</div>"
      ],
      "text/plain": [
       "                                                 title  \\\n",
       "0                                       Data Scientist   \n",
       "1                                       Data Scientist   \n",
       "2                       Data Scientist I - (Part-time)   \n",
       "3                                       Data Scientist   \n",
       "4                                       Data Scientist   \n",
       "..                                                 ...   \n",
       "195                          Machine Learning Engineer   \n",
       "196                                   Sr. Data Analyst   \n",
       "197  VP, Data Science, Business Intelligence & Data...   \n",
       "198                      Data Analyst - Health, Senior   \n",
       "199                                Senior Data Analyst   \n",
       "\n",
       "                                      company               location  \\\n",
       "0                                    Deloitte  Los Angeles, CA 90013   \n",
       "1                                   AvantStay        Los Angeles, CA   \n",
       "2    Columbus Technologies and Services, Inc.     Pasadena, CA 91101   \n",
       "3                             Age of Learning     Glendale, CA 91203   \n",
       "4                                        GOAT        Los Angeles, CA   \n",
       "..                                        ...                    ...   \n",
       "195                                      Oben           Pasadena, CA   \n",
       "196                                      Honk  Los Angeles, CA 90064   \n",
       "197                              NBCUniversal     Universal City, CA   \n",
       "198                 Blue Shield of California      Monterey Park, CA   \n",
       "199                                     Honey  Los Angeles, CA 90067   \n",
       "\n",
       "                                           Description  \n",
       "0    Deloitte Services LP includes internal support...  \n",
       "1    Who we are...\\nAvantStay delivers exceptional,...  \n",
       "2    Must be a US Citizen\\nEstimated duration of 12...  \n",
       "3    Company Overview:\\nAge of Learning is a leadin...  \n",
       "4    With over 20 million members, GOAT is the worl...  \n",
       "..                                                 ...  \n",
       "195  As a member of the machine language translatio...  \n",
       "196  HONK is a fast growing technology company disr...  \n",
       "197  Role Summary:\\nNBC Entertainment Digital is lo...  \n",
       "198  GENERAL SUMMARY:\\n\\nWe are hiring for a Senior...  \n",
       "199  Honey is a fast-growing startup based in Los A...  \n",
       "\n",
       "[200 rows x 4 columns]"
      ]
     },
     "execution_count": 398,
     "metadata": {},
     "output_type": "execute_result"
    }
   ],
   "source": [
    "# Visualize the dataframe\n",
    "df"
   ]
  },
  {
   "cell_type": "code",
   "execution_count": 399,
   "metadata": {},
   "outputs": [],
   "source": [
    "# Save the dataframe as .csv file to keep input source for analysis consistent\n",
    "export_csv = df.to_csv (r'export_dataframe_10302019.csv', index = None, header = True)"
   ]
  },
  {
   "cell_type": "code",
   "execution_count": 400,
   "metadata": {},
   "outputs": [
    {
     "data": {
      "text/plain": [
       "41"
      ]
     },
     "execution_count": 400,
     "metadata": {},
     "output_type": "execute_result"
    }
   ],
   "source": [
    "# C\n",
    "# We dont include C+, C++, and C# in the searching for C \n",
    "feqC = df.Description.str.contains(r'\\b[Cc](?<!\\+)\\b|\\b[Cc](?<!\\#)\\b').sum()\n",
    "feqC"
   ]
  },
  {
   "cell_type": "code",
   "execution_count": 401,
   "metadata": {},
   "outputs": [
    {
     "data": {
      "text/plain": [
       "31"
      ]
     },
     "execution_count": 401,
     "metadata": {},
     "output_type": "execute_result"
    }
   ],
   "source": [
    "# C++\n",
    "# df.Description.str.contains(r'[Cc]\\+\\+')\n",
    "feqC_plusplus = df.Description.str.contains(r'\\b[Cc]\\+\\+').sum()\n",
    "feqC_plusplus"
   ]
  },
  {
   "cell_type": "code",
   "execution_count": 402,
   "metadata": {},
   "outputs": [
    {
     "data": {
      "text/plain": [
       "49"
      ]
     },
     "execution_count": 402,
     "metadata": {},
     "output_type": "execute_result"
    }
   ],
   "source": [
    "# Java\n",
    "feqJava = df.Description.str.contains(r'\\b[Jj][Aa][Vv][Aa]\\b').sum()\n",
    "feqJava"
   ]
  },
  {
   "cell_type": "code",
   "execution_count": 403,
   "metadata": {},
   "outputs": [
    {
     "data": {
      "text/plain": [
       "5"
      ]
     },
     "execution_count": 403,
     "metadata": {},
     "output_type": "execute_result"
    }
   ],
   "source": [
    "# Javascript\n",
    "feqJS = df.Description.str.contains(r'\\b[Jj][Aa][Vv][Aa][Ss][Cc][Rr][Ii][Pp][Tt]\\b').sum()\n",
    "feqJS"
   ]
  },
  {
   "cell_type": "code",
   "execution_count": 404,
   "metadata": {},
   "outputs": [
    {
     "data": {
      "text/plain": [
       "148"
      ]
     },
     "execution_count": 404,
     "metadata": {},
     "output_type": "execute_result"
    }
   ],
   "source": [
    "# Python\n",
    "# We assume ipython is an interacitve shell instead of a programming language, therefore it is not included here\n",
    "feqPython = df.Description.str.contains(r'\\b[Pp][Yy][Tt][Hh][Oo][Nn]\\b').sum()\n",
    "feqPython"
   ]
  },
  {
   "cell_type": "code",
   "execution_count": 405,
   "metadata": {},
   "outputs": [
    {
     "data": {
      "text/plain": [
       "100"
      ]
     },
     "execution_count": 405,
     "metadata": {},
     "output_type": "execute_result"
    }
   ],
   "source": [
    "# R\n",
    "feqR = df.Description.str.contains(r'\\b[Rr]\\b').sum()\n",
    "feqR"
   ]
  },
  {
   "cell_type": "code",
   "execution_count": 406,
   "metadata": {},
   "outputs": [
    {
     "data": {
      "text/plain": [
       "119"
      ]
     },
     "execution_count": 406,
     "metadata": {},
     "output_type": "execute_result"
    }
   ],
   "source": [
    "# SQL\n",
    "# We consider MySQL or SQLite as part of SQL, therefore '\\b' is not used\n",
    "feqSQL = df.Description.str.contains(r'[Ss][Qq][Ll]|[Ss]tructured\\s[Qq]uery\\s[Ll]anguage').sum()\n",
    "feqSQL"
   ]
  },
  {
   "cell_type": "code",
   "execution_count": 407,
   "metadata": {},
   "outputs": [
    {
     "data": {
      "text/plain": [
       "34"
      ]
     },
     "execution_count": 407,
     "metadata": {},
     "output_type": "execute_result"
    }
   ],
   "source": [
    "# Hadoop\n",
    "feqHadoop = df.Description.str.contains(r'\\b[Hh][Aa][Dd][Oo][Oo][Pp]\\b').sum()\n",
    "feqHadoop"
   ]
  },
  {
   "cell_type": "code",
   "execution_count": 408,
   "metadata": {},
   "outputs": [
    {
     "data": {
      "text/plain": [
       "13"
      ]
     },
     "execution_count": 408,
     "metadata": {},
     "output_type": "execute_result"
    }
   ],
   "source": [
    "# Hive\n",
    "feqHive = df.Description.str.contains(r'\\b[Hh][Ii][Vv][Ee]\\b').sum()\n",
    "feqHive"
   ]
  },
  {
   "cell_type": "code",
   "execution_count": 409,
   "metadata": {},
   "outputs": [
    {
     "data": {
      "text/plain": [
       "3"
      ]
     },
     "execution_count": 409,
     "metadata": {},
     "output_type": "execute_result"
    }
   ],
   "source": [
    "# Pig\n",
    "feqPig = df.Description.str.contains(r'\\b[Pp][Ii][Gg]\\b').sum()\n",
    "feqPig"
   ]
  },
  {
   "cell_type": "code",
   "execution_count": 410,
   "metadata": {},
   "outputs": [
    {
     "data": {
      "text/plain": [
       "40"
      ]
     },
     "execution_count": 410,
     "metadata": {},
     "output_type": "execute_result"
    }
   ],
   "source": [
    "# Spark\n",
    "feqSpark = df.Description.str.contains(r'\\b[Ss][Pp][Aa][Rr][Kk]\\b').sum()\n",
    "feqSpark"
   ]
  },
  {
   "cell_type": "code",
   "execution_count": 411,
   "metadata": {},
   "outputs": [
    {
     "data": {
      "text/plain": [
       "40"
      ]
     },
     "execution_count": 411,
     "metadata": {},
     "output_type": "execute_result"
    }
   ],
   "source": [
    "# AWS\n",
    "feqAWS = df.Description.str.contains(r'\\b[Aa][Ww][Ss]\\b|[Aa]mazon\\s[Ww]eb\\s[Ss]ervices').sum()\n",
    "feqAWS"
   ]
  },
  {
   "cell_type": "code",
   "execution_count": 412,
   "metadata": {},
   "outputs": [
    {
     "data": {
      "text/plain": [
       "50"
      ]
     },
     "execution_count": 412,
     "metadata": {},
     "output_type": "execute_result"
    }
   ],
   "source": [
    "# Tableau\n",
    "feqTableau = df.Description.str.contains(r'\\b[Tt][Aa][Bb][Ll][Ee][Aa][Uu]').sum()\n",
    "feqTableau"
   ]
  },
  {
   "cell_type": "code",
   "execution_count": 413,
   "metadata": {},
   "outputs": [],
   "source": [
    "skill = ['C', 'C++', 'Java', 'Javascript', 'Python', 'R', 'SQL', 'Hadoop', 'Hive', 'Pig', 'Spark', 'AWS', 'Tableau']\n",
    "frequency = [feqC, feqC_plusplus, feqJava, feqJS, feqPython, feqR, feqSQL, feqHadoop, feqHive, feqPig, feqSpark, feqAWS, feqTableau]"
   ]
  },
  {
   "cell_type": "code",
   "execution_count": 414,
   "metadata": {},
   "outputs": [],
   "source": [
    "skills = {'Skill': skill,\n",
    "         'Frequency': frequency}\n",
    "df_skills = pd.DataFrame.from_dict(skills)"
   ]
  },
  {
   "cell_type": "code",
   "execution_count": 415,
   "metadata": {},
   "outputs": [
    {
     "data": {
      "text/html": [
       "<div>\n",
       "<style scoped>\n",
       "    .dataframe tbody tr th:only-of-type {\n",
       "        vertical-align: middle;\n",
       "    }\n",
       "\n",
       "    .dataframe tbody tr th {\n",
       "        vertical-align: top;\n",
       "    }\n",
       "\n",
       "    .dataframe thead th {\n",
       "        text-align: right;\n",
       "    }\n",
       "</style>\n",
       "<table border=\"1\" class=\"dataframe\">\n",
       "  <thead>\n",
       "    <tr style=\"text-align: right;\">\n",
       "      <th></th>\n",
       "      <th>Skill</th>\n",
       "      <th>Frequency</th>\n",
       "    </tr>\n",
       "  </thead>\n",
       "  <tbody>\n",
       "    <tr>\n",
       "      <td>0</td>\n",
       "      <td>C</td>\n",
       "      <td>41</td>\n",
       "    </tr>\n",
       "    <tr>\n",
       "      <td>1</td>\n",
       "      <td>C++</td>\n",
       "      <td>31</td>\n",
       "    </tr>\n",
       "    <tr>\n",
       "      <td>2</td>\n",
       "      <td>Java</td>\n",
       "      <td>49</td>\n",
       "    </tr>\n",
       "    <tr>\n",
       "      <td>3</td>\n",
       "      <td>Javascript</td>\n",
       "      <td>5</td>\n",
       "    </tr>\n",
       "    <tr>\n",
       "      <td>4</td>\n",
       "      <td>Python</td>\n",
       "      <td>148</td>\n",
       "    </tr>\n",
       "    <tr>\n",
       "      <td>5</td>\n",
       "      <td>R</td>\n",
       "      <td>100</td>\n",
       "    </tr>\n",
       "    <tr>\n",
       "      <td>6</td>\n",
       "      <td>SQL</td>\n",
       "      <td>119</td>\n",
       "    </tr>\n",
       "    <tr>\n",
       "      <td>7</td>\n",
       "      <td>Hadoop</td>\n",
       "      <td>34</td>\n",
       "    </tr>\n",
       "    <tr>\n",
       "      <td>8</td>\n",
       "      <td>Hive</td>\n",
       "      <td>13</td>\n",
       "    </tr>\n",
       "    <tr>\n",
       "      <td>9</td>\n",
       "      <td>Pig</td>\n",
       "      <td>3</td>\n",
       "    </tr>\n",
       "    <tr>\n",
       "      <td>10</td>\n",
       "      <td>Spark</td>\n",
       "      <td>40</td>\n",
       "    </tr>\n",
       "    <tr>\n",
       "      <td>11</td>\n",
       "      <td>AWS</td>\n",
       "      <td>40</td>\n",
       "    </tr>\n",
       "    <tr>\n",
       "      <td>12</td>\n",
       "      <td>Tableau</td>\n",
       "      <td>50</td>\n",
       "    </tr>\n",
       "  </tbody>\n",
       "</table>\n",
       "</div>"
      ],
      "text/plain": [
       "         Skill  Frequency\n",
       "0            C         41\n",
       "1          C++         31\n",
       "2         Java         49\n",
       "3   Javascript          5\n",
       "4       Python        148\n",
       "5            R        100\n",
       "6          SQL        119\n",
       "7       Hadoop         34\n",
       "8         Hive         13\n",
       "9          Pig          3\n",
       "10       Spark         40\n",
       "11         AWS         40\n",
       "12     Tableau         50"
      ]
     },
     "execution_count": 415,
     "metadata": {},
     "output_type": "execute_result"
    }
   ],
   "source": [
    "# Present the results in table format\n",
    "df_skills"
   ]
  },
  {
   "cell_type": "code",
   "execution_count": 416,
   "metadata": {},
   "outputs": [
    {
     "data": {
      "text/plain": [
       "<function matplotlib.pyplot.show(*args, **kw)>"
      ]
     },
     "execution_count": 416,
     "metadata": {},
     "output_type": "execute_result"
    },
    {
     "data": {
      "image/png": "[encoded data removed]",
      "text/plain": [
       "<Figure size 432x288 with 1 Axes>"
      ]
     },
     "metadata": {
      "needs_background": "light"
     },
     "output_type": "display_data"
    }
   ],
   "source": [
    "# Present the results in bar plot\n",
    "import matplotlib.pyplot as plt\n",
    "\n",
    "plt.bar(df_skills.Skill, df_skills.Frequency, align = 'center')\n",
    "plt.xticks(rotation = 90)\n",
    "plt.title('Skill frequencies for top-200 data scientists jobs in LA')\n",
    "plt.xlabel('Skill')\n",
    "plt.ylabel('Frequency')\n",
    "plt.show"
   ]
  },
  {
   "cell_type": "markdown",
   "metadata": {},
   "source": [
    "### 2. Bonus question (10 points): Compare Skill frequencies of top-200 data scientist jobs in San Francisco, Los Angeles, New York, Boston, Chicago, Austin and DC"
   ]
  },
  {
   "cell_type": "code",
   "execution_count": 417,
   "metadata": {},
   "outputs": [],
   "source": [
    "city_set = [\n",
    "    'San+Francisco',\n",
    "    'Los+Angeles', \n",
    "    'New+York', \n",
    "    'Boston', \n",
    "    'Chicago', \n",
    "    'Austin', \n",
    "    'DC']"
   ]
  },
  {
   "cell_type": "code",
   "execution_count": 422,
   "metadata": {},
   "outputs": [
    {
     "name": "stdout",
     "output_type": "stream",
     "text": [
      "San+Francisco\n",
      "https://www.indeed.com/m/jobs?q=data+scientist&l=San+Francisco&start=0\n",
      "10\n",
      "https://www.indeed.com/m/jobs?q=data+scientist&l=San+Francisco&start=10\n",
      "20\n",
      "https://www.indeed.com/m/jobs?q=data+scientist&l=San+Francisco&start=20\n",
      "30\n",
      "https://www.indeed.com/m/jobs?q=data+scientist&l=San+Francisco&start=30\n",
      "40\n",
      "https://www.indeed.com/m/jobs?q=data+scientist&l=San+Francisco&start=40\n",
      "50\n",
      "https://www.indeed.com/m/jobs?q=data+scientist&l=San+Francisco&start=50\n",
      "60\n",
      "https://www.indeed.com/m/jobs?q=data+scientist&l=San+Francisco&start=60\n",
      "70\n",
      "https://www.indeed.com/m/jobs?q=data+scientist&l=San+Francisco&start=70\n",
      "80\n",
      "https://www.indeed.com/m/jobs?q=data+scientist&l=San+Francisco&start=80\n",
      "90\n",
      "https://www.indeed.com/m/jobs?q=data+scientist&l=San+Francisco&start=90\n",
      "100\n",
      "https://www.indeed.com/m/jobs?q=data+scientist&l=San+Francisco&start=100\n",
      "110\n",
      "https://www.indeed.com/m/jobs?q=data+scientist&l=San+Francisco&start=110\n",
      "120\n",
      "https://www.indeed.com/m/jobs?q=data+scientist&l=San+Francisco&start=120\n",
      "130\n",
      "https://www.indeed.com/m/jobs?q=data+scientist&l=San+Francisco&start=130\n",
      "140\n",
      "https://www.indeed.com/m/jobs?q=data+scientist&l=San+Francisco&start=140\n",
      "150\n",
      "https://www.indeed.com/m/jobs?q=data+scientist&l=San+Francisco&start=150\n",
      "160\n",
      "https://www.indeed.com/m/jobs?q=data+scientist&l=San+Francisco&start=160\n",
      "170\n",
      "https://www.indeed.com/m/jobs?q=data+scientist&l=San+Francisco&start=170\n",
      "180\n",
      "https://www.indeed.com/m/jobs?q=data+scientist&l=San+Francisco&start=180\n",
      "190\n",
      "https://www.indeed.com/m/jobs?q=data+scientist&l=San+Francisco&start=190\n",
      "200\n",
      "Los+Angeles\n",
      "https://www.indeed.com/m/jobs?q=data+scientist&l=Los+Angeles&start=0\n",
      "210\n",
      "https://www.indeed.com/m/jobs?q=data+scientist&l=Los+Angeles&start=10\n",
      "220\n",
      "https://www.indeed.com/m/jobs?q=data+scientist&l=Los+Angeles&start=20\n",
      "230\n",
      "https://www.indeed.com/m/jobs?q=data+scientist&l=Los+Angeles&start=30\n",
      "240\n",
      "https://www.indeed.com/m/jobs?q=data+scientist&l=Los+Angeles&start=40\n",
      "250\n",
      "https://www.indeed.com/m/jobs?q=data+scientist&l=Los+Angeles&start=50\n",
      "260\n",
      "https://www.indeed.com/m/jobs?q=data+scientist&l=Los+Angeles&start=60\n",
      "270\n",
      "https://www.indeed.com/m/jobs?q=data+scientist&l=Los+Angeles&start=70\n",
      "280\n",
      "https://www.indeed.com/m/jobs?q=data+scientist&l=Los+Angeles&start=80\n",
      "290\n",
      "https://www.indeed.com/m/jobs?q=data+scientist&l=Los+Angeles&start=90\n",
      "300\n",
      "https://www.indeed.com/m/jobs?q=data+scientist&l=Los+Angeles&start=100\n",
      "310\n",
      "https://www.indeed.com/m/jobs?q=data+scientist&l=Los+Angeles&start=110\n",
      "320\n",
      "https://www.indeed.com/m/jobs?q=data+scientist&l=Los+Angeles&start=120\n",
      "330\n",
      "https://www.indeed.com/m/jobs?q=data+scientist&l=Los+Angeles&start=130\n",
      "340\n",
      "https://www.indeed.com/m/jobs?q=data+scientist&l=Los+Angeles&start=140\n",
      "350\n",
      "https://www.indeed.com/m/jobs?q=data+scientist&l=Los+Angeles&start=150\n",
      "360\n",
      "https://www.indeed.com/m/jobs?q=data+scientist&l=Los+Angeles&start=160\n",
      "370\n",
      "https://www.indeed.com/m/jobs?q=data+scientist&l=Los+Angeles&start=170\n",
      "380\n",
      "https://www.indeed.com/m/jobs?q=data+scientist&l=Los+Angeles&start=180\n",
      "390\n",
      "https://www.indeed.com/m/jobs?q=data+scientist&l=Los+Angeles&start=190\n",
      "400\n",
      "New+York\n",
      "https://www.indeed.com/m/jobs?q=data+scientist&l=New+York&start=0\n",
      "410\n",
      "https://www.indeed.com/m/jobs?q=data+scientist&l=New+York&start=10\n",
      "420\n",
      "https://www.indeed.com/m/jobs?q=data+scientist&l=New+York&start=20\n",
      "430\n",
      "https://www.indeed.com/m/jobs?q=data+scientist&l=New+York&start=30\n",
      "440\n",
      "https://www.indeed.com/m/jobs?q=data+scientist&l=New+York&start=40\n",
      "450\n",
      "https://www.indeed.com/m/jobs?q=data+scientist&l=New+York&start=50\n",
      "460\n",
      "https://www.indeed.com/m/jobs?q=data+scientist&l=New+York&start=60\n",
      "470\n",
      "https://www.indeed.com/m/jobs?q=data+scientist&l=New+York&start=70\n",
      "480\n",
      "https://www.indeed.com/m/jobs?q=data+scientist&l=New+York&start=80\n",
      "490\n",
      "https://www.indeed.com/m/jobs?q=data+scientist&l=New+York&start=90\n",
      "500\n",
      "https://www.indeed.com/m/jobs?q=data+scientist&l=New+York&start=100\n",
      "510\n",
      "https://www.indeed.com/m/jobs?q=data+scientist&l=New+York&start=110\n",
      "520\n",
      "https://www.indeed.com/m/jobs?q=data+scientist&l=New+York&start=120\n",
      "530\n",
      "https://www.indeed.com/m/jobs?q=data+scientist&l=New+York&start=130\n",
      "540\n",
      "https://www.indeed.com/m/jobs?q=data+scientist&l=New+York&start=140\n",
      "550\n",
      "https://www.indeed.com/m/jobs?q=data+scientist&l=New+York&start=150\n",
      "560\n",
      "https://www.indeed.com/m/jobs?q=data+scientist&l=New+York&start=160\n",
      "570\n",
      "https://www.indeed.com/m/jobs?q=data+scientist&l=New+York&start=170\n",
      "580\n",
      "https://www.indeed.com/m/jobs?q=data+scientist&l=New+York&start=180\n",
      "590\n",
      "https://www.indeed.com/m/jobs?q=data+scientist&l=New+York&start=190\n",
      "600\n",
      "Boston\n",
      "https://www.indeed.com/m/jobs?q=data+scientist&l=Boston&start=0\n",
      "610\n",
      "https://www.indeed.com/m/jobs?q=data+scientist&l=Boston&start=10\n",
      "620\n",
      "https://www.indeed.com/m/jobs?q=data+scientist&l=Boston&start=20\n",
      "630\n",
      "https://www.indeed.com/m/jobs?q=data+scientist&l=Boston&start=30\n",
      "640\n",
      "https://www.indeed.com/m/jobs?q=data+scientist&l=Boston&start=40\n",
      "650\n",
      "https://www.indeed.com/m/jobs?q=data+scientist&l=Boston&start=50\n",
      "660\n",
      "https://www.indeed.com/m/jobs?q=data+scientist&l=Boston&start=60\n",
      "670\n",
      "https://www.indeed.com/m/jobs?q=data+scientist&l=Boston&start=70\n",
      "680\n",
      "https://www.indeed.com/m/jobs?q=data+scientist&l=Boston&start=80\n",
      "690\n",
      "https://www.indeed.com/m/jobs?q=data+scientist&l=Boston&start=90\n",
      "700\n",
      "https://www.indeed.com/m/jobs?q=data+scientist&l=Boston&start=100\n",
      "710\n",
      "https://www.indeed.com/m/jobs?q=data+scientist&l=Boston&start=110\n",
      "720\n",
      "https://www.indeed.com/m/jobs?q=data+scientist&l=Boston&start=120\n",
      "730\n",
      "https://www.indeed.com/m/jobs?q=data+scientist&l=Boston&start=130\n",
      "740\n",
      "https://www.indeed.com/m/jobs?q=data+scientist&l=Boston&start=140\n",
      "750\n",
      "https://www.indeed.com/m/jobs?q=data+scientist&l=Boston&start=150\n",
      "760\n",
      "https://www.indeed.com/m/jobs?q=data+scientist&l=Boston&start=160\n",
      "770\n",
      "https://www.indeed.com/m/jobs?q=data+scientist&l=Boston&start=170\n",
      "780\n",
      "https://www.indeed.com/m/jobs?q=data+scientist&l=Boston&start=180\n",
      "790\n",
      "https://www.indeed.com/m/jobs?q=data+scientist&l=Boston&start=190\n",
      "800\n",
      "Chicago\n",
      "https://www.indeed.com/m/jobs?q=data+scientist&l=Chicago&start=0\n",
      "810\n",
      "https://www.indeed.com/m/jobs?q=data+scientist&l=Chicago&start=10\n",
      "820\n",
      "https://www.indeed.com/m/jobs?q=data+scientist&l=Chicago&start=20\n",
      "830\n",
      "https://www.indeed.com/m/jobs?q=data+scientist&l=Chicago&start=30\n",
      "840\n",
      "https://www.indeed.com/m/jobs?q=data+scientist&l=Chicago&start=40\n",
      "850\n",
      "https://www.indeed.com/m/jobs?q=data+scientist&l=Chicago&start=50\n",
      "860\n",
      "https://www.indeed.com/m/jobs?q=data+scientist&l=Chicago&start=60\n",
      "870\n",
      "https://www.indeed.com/m/jobs?q=data+scientist&l=Chicago&start=70\n",
      "880\n",
      "https://www.indeed.com/m/jobs?q=data+scientist&l=Chicago&start=80\n",
      "890\n",
      "https://www.indeed.com/m/jobs?q=data+scientist&l=Chicago&start=90\n",
      "900\n",
      "https://www.indeed.com/m/jobs?q=data+scientist&l=Chicago&start=100\n",
      "910\n",
      "https://www.indeed.com/m/jobs?q=data+scientist&l=Chicago&start=110\n",
      "920\n",
      "https://www.indeed.com/m/jobs?q=data+scientist&l=Chicago&start=120\n",
      "930\n",
      "https://www.indeed.com/m/jobs?q=data+scientist&l=Chicago&start=130\n",
      "940\n",
      "https://www.indeed.com/m/jobs?q=data+scientist&l=Chicago&start=140\n",
      "950\n",
      "https://www.indeed.com/m/jobs?q=data+scientist&l=Chicago&start=150\n",
      "960\n",
      "https://www.indeed.com/m/jobs?q=data+scientist&l=Chicago&start=160\n",
      "970\n",
      "https://www.indeed.com/m/jobs?q=data+scientist&l=Chicago&start=170\n",
      "980\n",
      "https://www.indeed.com/m/jobs?q=data+scientist&l=Chicago&start=180\n",
      "990\n",
      "https://www.indeed.com/m/jobs?q=data+scientist&l=Chicago&start=190\n",
      "1000\n",
      "Austin\n",
      "https://www.indeed.com/m/jobs?q=data+scientist&l=Austin&start=0\n",
      "1010\n",
      "https://www.indeed.com/m/jobs?q=data+scientist&l=Austin&start=10\n",
      "1020\n",
      "https://www.indeed.com/m/jobs?q=data+scientist&l=Austin&start=20\n",
      "1030\n",
      "https://www.indeed.com/m/jobs?q=data+scientist&l=Austin&start=30\n",
      "1040\n",
      "https://www.indeed.com/m/jobs?q=data+scientist&l=Austin&start=40\n",
      "1050\n",
      "https://www.indeed.com/m/jobs?q=data+scientist&l=Austin&start=50\n",
      "1060\n",
      "https://www.indeed.com/m/jobs?q=data+scientist&l=Austin&start=60\n",
      "1070\n",
      "https://www.indeed.com/m/jobs?q=data+scientist&l=Austin&start=70\n",
      "1080\n",
      "https://www.indeed.com/m/jobs?q=data+scientist&l=Austin&start=80\n",
      "1090\n",
      "https://www.indeed.com/m/jobs?q=data+scientist&l=Austin&start=90\n",
      "1100\n",
      "https://www.indeed.com/m/jobs?q=data+scientist&l=Austin&start=100\n",
      "1110\n",
      "https://www.indeed.com/m/jobs?q=data+scientist&l=Austin&start=110\n",
      "1120\n",
      "https://www.indeed.com/m/jobs?q=data+scientist&l=Austin&start=120\n",
      "1130\n"
     ]
    },
    {
     "name": "stdout",
     "output_type": "stream",
     "text": [
      "https://www.indeed.com/m/jobs?q=data+scientist&l=Austin&start=130\n",
      "1140\n",
      "https://www.indeed.com/m/jobs?q=data+scientist&l=Austin&start=140\n",
      "1150\n",
      "https://www.indeed.com/m/jobs?q=data+scientist&l=Austin&start=150\n",
      "1160\n",
      "https://www.indeed.com/m/jobs?q=data+scientist&l=Austin&start=160\n",
      "1170\n",
      "https://www.indeed.com/m/jobs?q=data+scientist&l=Austin&start=170\n",
      "1177\n",
      "https://www.indeed.com/m/jobs?q=data+scientist&l=Austin&start=180\n",
      "1187\n",
      "https://www.indeed.com/m/jobs?q=data+scientist&l=Austin&start=190\n",
      "1197\n",
      "DC\n",
      "https://www.indeed.com/m/jobs?q=data+scientist&l=DC&start=0\n",
      "1207\n",
      "https://www.indeed.com/m/jobs?q=data+scientist&l=DC&start=10\n",
      "1217\n",
      "https://www.indeed.com/m/jobs?q=data+scientist&l=DC&start=20\n",
      "1227\n",
      "https://www.indeed.com/m/jobs?q=data+scientist&l=DC&start=30\n",
      "1237\n",
      "https://www.indeed.com/m/jobs?q=data+scientist&l=DC&start=40\n",
      "1247\n",
      "https://www.indeed.com/m/jobs?q=data+scientist&l=DC&start=50\n",
      "1257\n",
      "https://www.indeed.com/m/jobs?q=data+scientist&l=DC&start=60\n",
      "1267\n",
      "https://www.indeed.com/m/jobs?q=data+scientist&l=DC&start=70\n",
      "1277\n",
      "https://www.indeed.com/m/jobs?q=data+scientist&l=DC&start=80\n",
      "1287\n",
      "https://www.indeed.com/m/jobs?q=data+scientist&l=DC&start=90\n",
      "1297\n",
      "https://www.indeed.com/m/jobs?q=data+scientist&l=DC&start=100\n",
      "1307\n",
      "https://www.indeed.com/m/jobs?q=data+scientist&l=DC&start=110\n",
      "1317\n",
      "https://www.indeed.com/m/jobs?q=data+scientist&l=DC&start=120\n",
      "1327\n",
      "https://www.indeed.com/m/jobs?q=data+scientist&l=DC&start=130\n",
      "1337\n",
      "https://www.indeed.com/m/jobs?q=data+scientist&l=DC&start=140\n",
      "1347\n",
      "https://www.indeed.com/m/jobs?q=data+scientist&l=DC&start=150\n",
      "1357\n",
      "https://www.indeed.com/m/jobs?q=data+scientist&l=DC&start=160\n",
      "1367\n",
      "https://www.indeed.com/m/jobs?q=data+scientist&l=DC&start=170\n",
      "1377\n",
      "https://www.indeed.com/m/jobs?q=data+scientist&l=DC&start=180\n",
      "1387\n",
      "https://www.indeed.com/m/jobs?q=data+scientist&l=DC&start=190\n",
      "1397\n"
     ]
    }
   ],
   "source": [
    "cities = []\n",
    "title = []\n",
    "company = []\n",
    "jd = []\n",
    "lst = []\n",
    "for city in city_set:\n",
    "    \n",
    "    url = 'https://www.indeed.com/m/jobs?q=data+scientist&l=' + str(city) + '&start=0'\n",
    "    print(city)\n",
    "    \n",
    "    for i in range(20):\n",
    "        \n",
    "        page = urlopen(url)\n",
    "        time.sleep(1)\n",
    "        soup = BeautifulSoup(page, 'lxml')\n",
    "        all_matches = soup.findAll(name = 'h2', attrs = {'class':['jobTitle']})\n",
    "        for each in all_matches:\n",
    "            jd_url= 'http://www.indeed.com/m/'+ each.a['href']\n",
    "            lst.append(each.a['href'])\n",
    "            jd_page =urlopen(jd_url)\n",
    "            jd_soup = BeautifulSoup(jd_page, 'lxml')\n",
    "            jd_desc = jd_soup.findAll(attrs={'id':['desc']})\n",
    "            cities.append(city)\n",
    "            title.append(jd_soup.body.p.b.font.text)\n",
    "            company.append(jd_desc[0].span.text)\n",
    "            jd.append(jd_desc[0].text)\n",
    "        \n",
    "        print(url)\n",
    "        print(len(lst))\n",
    "        url = 'https://www.indeed.com/m/jobs?q=data+scientist&l=' + str(city) + \"&start=\" + str((i+1)*10)"
   ]
  },
  {
   "cell_type": "code",
   "execution_count": 423,
   "metadata": {},
   "outputs": [],
   "source": [
    "job_city = {'city': cities, 'title': title, 'company': company, 'description': jd}\n",
    "df_city = pd.DataFrame.from_dict(job_city)"
   ]
  },
  {
   "cell_type": "code",
   "execution_count": 424,
   "metadata": {},
   "outputs": [
    {
     "data": {
      "text/html": [
       "<div>\n",
       "<style scoped>\n",
       "    .dataframe tbody tr th:only-of-type {\n",
       "        vertical-align: middle;\n",
       "    }\n",
       "\n",
       "    .dataframe tbody tr th {\n",
       "        vertical-align: top;\n",
       "    }\n",
       "\n",
       "    .dataframe thead th {\n",
       "        text-align: right;\n",
       "    }\n",
       "</style>\n",
       "<table border=\"1\" class=\"dataframe\">\n",
       "  <thead>\n",
       "    <tr style=\"text-align: right;\">\n",
       "      <th></th>\n",
       "      <th>city</th>\n",
       "      <th>title</th>\n",
       "      <th>company</th>\n",
       "      <th>description</th>\n",
       "    </tr>\n",
       "  </thead>\n",
       "  <tbody>\n",
       "    <tr>\n",
       "      <td>0</td>\n",
       "      <td>San+Francisco</td>\n",
       "      <td>Data Scientist</td>\n",
       "      <td>Blue Owl</td>\n",
       "      <td>A million people a year die in car collisions ...</td>\n",
       "    </tr>\n",
       "    <tr>\n",
       "      <td>1</td>\n",
       "      <td>San+Francisco</td>\n",
       "      <td>Data Scientist</td>\n",
       "      <td>States Title Holding</td>\n",
       "      <td>Create the model that transforms how real esta...</td>\n",
       "    </tr>\n",
       "    <tr>\n",
       "      <td>2</td>\n",
       "      <td>San+Francisco</td>\n",
       "      <td>Data Scientist (Jr. to Sr. Level)</td>\n",
       "      <td>Zachary Piper Solutions</td>\n",
       "      <td>Piper Companies is currently looking for Data ...</td>\n",
       "    </tr>\n",
       "    <tr>\n",
       "      <td>3</td>\n",
       "      <td>San+Francisco</td>\n",
       "      <td>Data Scientist</td>\n",
       "      <td>Gap Inc.</td>\n",
       "      <td>About Gap Inc.\\nOur past is full of iconic mom...</td>\n",
       "    </tr>\n",
       "    <tr>\n",
       "      <td>4</td>\n",
       "      <td>San+Francisco</td>\n",
       "      <td>Data Scientist</td>\n",
       "      <td>Spin Electric Scooters</td>\n",
       "      <td>About Spin\\n\\nSpin operates electric scooters ...</td>\n",
       "    </tr>\n",
       "    <tr>\n",
       "      <td>...</td>\n",
       "      <td>...</td>\n",
       "      <td>...</td>\n",
       "      <td>...</td>\n",
       "      <td>...</td>\n",
       "    </tr>\n",
       "    <tr>\n",
       "      <td>1392</td>\n",
       "      <td>DC</td>\n",
       "      <td>Data Scientist - Data Analyst</td>\n",
       "      <td>Guidehouse</td>\n",
       "      <td>Overview\\nInterested in working with talented ...</td>\n",
       "    </tr>\n",
       "    <tr>\n",
       "      <td>1393</td>\n",
       "      <td>DC</td>\n",
       "      <td>Chief Data Scientist</td>\n",
       "      <td>BAE Systems</td>\n",
       "      <td>The Chief Data Scientist (CDS) shall have hand...</td>\n",
       "    </tr>\n",
       "    <tr>\n",
       "      <td>1394</td>\n",
       "      <td>DC</td>\n",
       "      <td>Senior Operations Data Analyst</td>\n",
       "      <td>Applied Insight</td>\n",
       "      <td>Overview\\nAt Applied Insight, we leave no ston...</td>\n",
       "    </tr>\n",
       "    <tr>\n",
       "      <td>1395</td>\n",
       "      <td>DC</td>\n",
       "      <td>Data Scientist</td>\n",
       "      <td>Xometry Inc</td>\n",
       "      <td>Xometry is a rapidly growing startup that is t...</td>\n",
       "    </tr>\n",
       "    <tr>\n",
       "      <td>1396</td>\n",
       "      <td>DC</td>\n",
       "      <td>Data Scientist/Modeler</td>\n",
       "      <td>Capgemini Government Solutions</td>\n",
       "      <td>Capgemini Government Solutions (CGGS) LLC is s...</td>\n",
       "    </tr>\n",
       "  </tbody>\n",
       "</table>\n",
       "<p>1397 rows × 4 columns</p>\n",
       "</div>"
      ],
      "text/plain": [
       "               city                              title  \\\n",
       "0     San+Francisco                     Data Scientist   \n",
       "1     San+Francisco                     Data Scientist   \n",
       "2     San+Francisco  Data Scientist (Jr. to Sr. Level)   \n",
       "3     San+Francisco                     Data Scientist   \n",
       "4     San+Francisco                     Data Scientist   \n",
       "...             ...                                ...   \n",
       "1392             DC      Data Scientist - Data Analyst   \n",
       "1393             DC               Chief Data Scientist   \n",
       "1394             DC     Senior Operations Data Analyst   \n",
       "1395             DC                     Data Scientist   \n",
       "1396             DC             Data Scientist/Modeler   \n",
       "\n",
       "                             company  \\\n",
       "0                           Blue Owl   \n",
       "1               States Title Holding   \n",
       "2            Zachary Piper Solutions   \n",
       "3                           Gap Inc.   \n",
       "4             Spin Electric Scooters   \n",
       "...                              ...   \n",
       "1392                      Guidehouse   \n",
       "1393                     BAE Systems   \n",
       "1394                 Applied Insight   \n",
       "1395                     Xometry Inc   \n",
       "1396  Capgemini Government Solutions   \n",
       "\n",
       "                                            description  \n",
       "0     A million people a year die in car collisions ...  \n",
       "1     Create the model that transforms how real esta...  \n",
       "2     Piper Companies is currently looking for Data ...  \n",
       "3     About Gap Inc.\\nOur past is full of iconic mom...  \n",
       "4     About Spin\\n\\nSpin operates electric scooters ...  \n",
       "...                                                 ...  \n",
       "1392  Overview\\nInterested in working with talented ...  \n",
       "1393  The Chief Data Scientist (CDS) shall have hand...  \n",
       "1394  Overview\\nAt Applied Insight, we leave no ston...  \n",
       "1395  Xometry is a rapidly growing startup that is t...  \n",
       "1396  Capgemini Government Solutions (CGGS) LLC is s...  \n",
       "\n",
       "[1397 rows x 4 columns]"
      ]
     },
     "execution_count": 424,
     "metadata": {},
     "output_type": "execute_result"
    }
   ],
   "source": [
    "df_city"
   ]
  },
  {
   "cell_type": "code",
   "execution_count": 425,
   "metadata": {},
   "outputs": [],
   "source": [
    "export_csv = df_city.to_csv (r'export_dataframe_city_10302019.csv', index = None, header = True)"
   ]
  },
  {
   "cell_type": "code",
   "execution_count": 426,
   "metadata": {},
   "outputs": [],
   "source": [
    "df_city_group = df_city.groupby('city')"
   ]
  },
  {
   "cell_type": "code",
   "execution_count": 427,
   "metadata": {},
   "outputs": [],
   "source": [
    "C = []\n",
    "C_plusplus = []\n",
    "Java = []\n",
    "JS = []\n",
    "Python = []\n",
    "R = []\n",
    "SQL = []\n",
    "Hadoop = []\n",
    "Hive = []\n",
    "Pig = []\n",
    "Spark = []\n",
    "AWS = []\n",
    "Tableau = []\n",
    "\n",
    "for city in city_set:\n",
    "    C.append(df_city_group.get_group(str(city)).description.str.contains(r'\\b[Cc](?<!\\+)\\b|\\b[Cc](?<!\\#)\\b').sum())\n",
    "    C_plusplus.append(df_city_group.get_group(str(city)).description.str.contains(r'\\b[Cc]\\+\\+').sum())\n",
    "    Java.append(df_city_group.get_group(str(city)).description.str.contains(r'\\b[Jj][Aa][Vv][Aa]\\b').sum())\n",
    "    JS.append(df_city_group.get_group(str(city)).description.str.contains(r'\\b[Jj][Aa][Vv][Aa][Ss][Cc][Rr][Ii][Pp][Tt]\\b').sum())\n",
    "    Python.append(df_city_group.get_group(str(city)).description.str.contains(r'\\b[Pp][Yy][Tt][Hh][Oo][Nn]\\b').sum())\n",
    "    R.append(df_city_group.get_group(str(city)).description.str.contains(r'\\b[Rr]\\b').sum())\n",
    "    SQL.append(df_city_group.get_group(str(city)).description.str.contains(r'[Ss][Qq][Ll]|[Ss]tructured\\s[Qq]uery\\s[Ll]anguage').sum())\n",
    "    Hadoop.append(df_city_group.get_group(str(city)).description.str.contains(r'\\b[Hh][Aa][Dd][Oo][Oo][Pp]\\b').sum())\n",
    "    Hive.append(df_city_group.get_group(str(city)).description.str.contains(r'\\b[Hh][Ii][Vv][Ee]\\b').sum())\n",
    "    Pig.append(df_city_group.get_group(str(city)).description.str.contains(r'\\b[Pp][Ii][Gg]\\b').sum())\n",
    "    Spark.append(df_city_group.get_group(str(city)).description.str.contains(r'\\b[Ss][Pp][Aa][Rr][Kk]\\b').sum())\n",
    "    AWS.append(df_city_group.get_group(str(city)).description.str.contains(r'\\b[Aa][Ww][Ss]\\b|[Aa]mazon\\s[Ww]eb\\s[Ss]ervices').sum())\n",
    "    Tableau.append(df_city_group.get_group(str(city)).description.str.contains(r'\\b[Tt][Aa][Bb][Ll][Ee][Aa][Uu]').sum())"
   ]
  },
  {
   "cell_type": "code",
   "execution_count": 428,
   "metadata": {},
   "outputs": [],
   "source": [
    "skills_city = {'city': city_set, \n",
    "               'C': C, \n",
    "               'C_plusplus': C_plusplus, \n",
    "               'Java': Java,\n",
    "               'Javascript': JS, \n",
    "               'Python': Python, \n",
    "               'R': R, \n",
    "               'SQL': SQL, \n",
    "               'Hadoop': Hadoop, \n",
    "               'Hive': Hive, \n",
    "               'Pig': Pig, \n",
    "               'Spark': Spark, \n",
    "               'AWS': AWS, \n",
    "               'Tableau': Tableau}\n",
    "df_skills_city = pd.DataFrame.from_dict(skills_city)"
   ]
  },
  {
   "cell_type": "code",
   "execution_count": 429,
   "metadata": {},
   "outputs": [
    {
     "data": {
      "text/html": [
       "<div>\n",
       "<style scoped>\n",
       "    .dataframe tbody tr th:only-of-type {\n",
       "        vertical-align: middle;\n",
       "    }\n",
       "\n",
       "    .dataframe tbody tr th {\n",
       "        vertical-align: top;\n",
       "    }\n",
       "\n",
       "    .dataframe thead th {\n",
       "        text-align: right;\n",
       "    }\n",
       "</style>\n",
       "<table border=\"1\" class=\"dataframe\">\n",
       "  <thead>\n",
       "    <tr style=\"text-align: right;\">\n",
       "      <th></th>\n",
       "      <th>city</th>\n",
       "      <th>C</th>\n",
       "      <th>C_plusplus</th>\n",
       "      <th>Java</th>\n",
       "      <th>Javascript</th>\n",
       "      <th>Python</th>\n",
       "      <th>R</th>\n",
       "      <th>SQL</th>\n",
       "      <th>Hadoop</th>\n",
       "      <th>Hive</th>\n",
       "      <th>Pig</th>\n",
       "      <th>Spark</th>\n",
       "      <th>AWS</th>\n",
       "      <th>Tableau</th>\n",
       "    </tr>\n",
       "  </thead>\n",
       "  <tbody>\n",
       "    <tr>\n",
       "      <td>0</td>\n",
       "      <td>San+Francisco</td>\n",
       "      <td>25</td>\n",
       "      <td>18</td>\n",
       "      <td>36</td>\n",
       "      <td>5</td>\n",
       "      <td>147</td>\n",
       "      <td>99</td>\n",
       "      <td>115</td>\n",
       "      <td>39</td>\n",
       "      <td>31</td>\n",
       "      <td>7</td>\n",
       "      <td>52</td>\n",
       "      <td>26</td>\n",
       "      <td>25</td>\n",
       "    </tr>\n",
       "    <tr>\n",
       "      <td>1</td>\n",
       "      <td>Los+Angeles</td>\n",
       "      <td>40</td>\n",
       "      <td>32</td>\n",
       "      <td>43</td>\n",
       "      <td>4</td>\n",
       "      <td>147</td>\n",
       "      <td>106</td>\n",
       "      <td>127</td>\n",
       "      <td>30</td>\n",
       "      <td>12</td>\n",
       "      <td>2</td>\n",
       "      <td>35</td>\n",
       "      <td>39</td>\n",
       "      <td>52</td>\n",
       "    </tr>\n",
       "    <tr>\n",
       "      <td>2</td>\n",
       "      <td>New+York</td>\n",
       "      <td>21</td>\n",
       "      <td>16</td>\n",
       "      <td>40</td>\n",
       "      <td>14</td>\n",
       "      <td>166</td>\n",
       "      <td>117</td>\n",
       "      <td>121</td>\n",
       "      <td>38</td>\n",
       "      <td>22</td>\n",
       "      <td>7</td>\n",
       "      <td>48</td>\n",
       "      <td>30</td>\n",
       "      <td>39</td>\n",
       "    </tr>\n",
       "    <tr>\n",
       "      <td>3</td>\n",
       "      <td>Boston</td>\n",
       "      <td>36</td>\n",
       "      <td>25</td>\n",
       "      <td>32</td>\n",
       "      <td>6</td>\n",
       "      <td>142</td>\n",
       "      <td>104</td>\n",
       "      <td>89</td>\n",
       "      <td>22</td>\n",
       "      <td>12</td>\n",
       "      <td>2</td>\n",
       "      <td>29</td>\n",
       "      <td>30</td>\n",
       "      <td>34</td>\n",
       "    </tr>\n",
       "    <tr>\n",
       "      <td>4</td>\n",
       "      <td>Chicago</td>\n",
       "      <td>41</td>\n",
       "      <td>30</td>\n",
       "      <td>25</td>\n",
       "      <td>9</td>\n",
       "      <td>154</td>\n",
       "      <td>123</td>\n",
       "      <td>104</td>\n",
       "      <td>46</td>\n",
       "      <td>17</td>\n",
       "      <td>5</td>\n",
       "      <td>43</td>\n",
       "      <td>43</td>\n",
       "      <td>40</td>\n",
       "    </tr>\n",
       "    <tr>\n",
       "      <td>5</td>\n",
       "      <td>Austin</td>\n",
       "      <td>70</td>\n",
       "      <td>60</td>\n",
       "      <td>64</td>\n",
       "      <td>15</td>\n",
       "      <td>129</td>\n",
       "      <td>83</td>\n",
       "      <td>107</td>\n",
       "      <td>41</td>\n",
       "      <td>34</td>\n",
       "      <td>9</td>\n",
       "      <td>65</td>\n",
       "      <td>58</td>\n",
       "      <td>32</td>\n",
       "    </tr>\n",
       "    <tr>\n",
       "      <td>6</td>\n",
       "      <td>DC</td>\n",
       "      <td>42</td>\n",
       "      <td>21</td>\n",
       "      <td>37</td>\n",
       "      <td>9</td>\n",
       "      <td>131</td>\n",
       "      <td>104</td>\n",
       "      <td>101</td>\n",
       "      <td>16</td>\n",
       "      <td>15</td>\n",
       "      <td>9</td>\n",
       "      <td>27</td>\n",
       "      <td>48</td>\n",
       "      <td>48</td>\n",
       "    </tr>\n",
       "  </tbody>\n",
       "</table>\n",
       "</div>"
      ],
      "text/plain": [
       "            city   C  C_plusplus  Java  Javascript  Python    R  SQL  Hadoop  \\\n",
       "0  San+Francisco  25          18    36           5     147   99  115      39   \n",
       "1    Los+Angeles  40          32    43           4     147  106  127      30   \n",
       "2       New+York  21          16    40          14     166  117  121      38   \n",
       "3         Boston  36          25    32           6     142  104   89      22   \n",
       "4        Chicago  41          30    25           9     154  123  104      46   \n",
       "5         Austin  70          60    64          15     129   83  107      41   \n",
       "6             DC  42          21    37           9     131  104  101      16   \n",
       "\n",
       "   Hive  Pig  Spark  AWS  Tableau  \n",
       "0    31    7     52   26       25  \n",
       "1    12    2     35   39       52  \n",
       "2    22    7     48   30       39  \n",
       "3    12    2     29   30       34  \n",
       "4    17    5     43   43       40  \n",
       "5    34    9     65   58       32  \n",
       "6    15    9     27   48       48  "
      ]
     },
     "execution_count": 429,
     "metadata": {},
     "output_type": "execute_result"
    }
   ],
   "source": [
    "# Present the results in table format\n",
    "df_skills_city"
   ]
  },
  {
   "cell_type": "code",
   "execution_count": 430,
   "metadata": {},
   "outputs": [
    {
     "data": {
      "text/plain": [
       "<function matplotlib.pyplot.show(*args, **kw)>"
      ]
     },
     "execution_count": 430,
     "metadata": {},
     "output_type": "execute_result"
    },
    {
     "data": {
      "image/png": "[encoded data removed]",
      "text/plain": [
       "<Figure size 432x288 with 1 Axes>"
      ]
     },
     "metadata": {
      "needs_background": "light"
     },
     "output_type": "display_data"
    }
   ],
   "source": [
    "# Present the results in bar plot\n",
    "# C\n",
    "plt.bar(df_skills_city.city, df_skills_city.C, align = 'center')\n",
    "plt.xticks(rotation = 90)\n",
    "plt.title('C frequencies for data scientists jobs in different cities')\n",
    "plt.xlabel('City')\n",
    "plt.ylabel('Frequency')\n",
    "plt.show"
   ]
  },
  {
   "cell_type": "code",
   "execution_count": 431,
   "metadata": {},
   "outputs": [
    {
     "data": {
      "text/plain": [
       "<function matplotlib.pyplot.show(*args, **kw)>"
      ]
     },
     "execution_count": 431,
     "metadata": {},
     "output_type": "execute_result"
    },
    {
     "data": {
      "image/png": "[encoded data removed]",
      "text/plain": [
       "<Figure size 432x288 with 1 Axes>"
      ]
     },
     "metadata": {
      "needs_background": "light"
     },
     "output_type": "display_data"
    }
   ],
   "source": [
    "# C++\n",
    "plt.bar(df_skills_city.city, df_skills_city.C_plusplus, align = 'center')\n",
    "plt.xticks(rotation = 90)\n",
    "plt.title('C++ frequencies for data scientists jobs in different cities')\n",
    "plt.xlabel('City')\n",
    "plt.ylabel('Frequency')\n",
    "plt.show"
   ]
  },
  {
   "cell_type": "code",
   "execution_count": 432,
   "metadata": {},
   "outputs": [
    {
     "data": {
      "text/plain": [
       "<function matplotlib.pyplot.show(*args, **kw)>"
      ]
     },
     "execution_count": 432,
     "metadata": {},
     "output_type": "execute_result"
    },
    {
     "data": {
      "image/png": "[encoded data removed]",
      "text/plain": [
       "<Figure size 432x288 with 1 Axes>"
      ]
     },
     "metadata": {
      "needs_background": "light"
     },
     "output_type": "display_data"
    }
   ],
   "source": [
    "# Java\n",
    "plt.bar(df_skills_city.city, df_skills_city.Java, align = 'center')\n",
    "plt.xticks(rotation = 90)\n",
    "plt.title('Java frequencies for data scientists jobs in different cities')\n",
    "plt.xlabel('City')\n",
    "plt.ylabel('Frequency')\n",
    "plt.show"
   ]
  },
  {
   "cell_type": "code",
   "execution_count": 433,
   "metadata": {},
   "outputs": [
    {
     "data": {
      "text/plain": [
       "<function matplotlib.pyplot.show(*args, **kw)>"
      ]
     },
     "execution_count": 433,
     "metadata": {},
     "output_type": "execute_result"
    },
    {
     "data": {
      "image/png": "[encoded data removed]",
      "text/plain": [
       "<Figure size 432x288 with 1 Axes>"
      ]
     },
     "metadata": {
      "needs_background": "light"
     },
     "output_type": "display_data"
    }
   ],
   "source": [
    "#Javascript\n",
    "plt.bar(df_skills_city.city, df_skills_city.Javascript, align = 'center')\n",
    "plt.xticks(rotation = 90)\n",
    "plt.title('Javascript frequencies for data scientists jobs in different cities')\n",
    "plt.xlabel('City')\n",
    "plt.ylabel('Frequency')\n",
    "plt.show"
   ]
  },
  {
   "cell_type": "code",
   "execution_count": 434,
   "metadata": {},
   "outputs": [
    {
     "data": {
      "text/plain": [
       "<function matplotlib.pyplot.show(*args, **kw)>"
      ]
     },
     "execution_count": 434,
     "metadata": {},
     "output_type": "execute_result"
    },
    {
     "data": {
      "image/png": "[encoded data removed]",
      "text/plain": [
       "<Figure size 432x288 with 1 Axes>"
      ]
     },
     "metadata": {
      "needs_background": "light"
     },
     "output_type": "display_data"
    }
   ],
   "source": [
    "# Python\n",
    "plt.bar(df_skills_city.city, df_skills_city.Python, align = 'center')\n",
    "plt.xticks(rotation = 90)\n",
    "plt.title('Python frequencies for data scientists jobs in different cities')\n",
    "plt.xlabel('City')\n",
    "plt.ylabel('Frequency')\n",
    "plt.show"
   ]
  },
  {
   "cell_type": "code",
   "execution_count": 435,
   "metadata": {},
   "outputs": [
    {
     "data": {
      "text/plain": [
       "<function matplotlib.pyplot.show(*args, **kw)>"
      ]
     },
     "execution_count": 435,
     "metadata": {},
     "output_type": "execute_result"
    },
    {
     "data": {
      "image/png": "[encoded data removed]",
      "text/plain": [
       "<Figure size 432x288 with 1 Axes>"
      ]
     },
     "metadata": {
      "needs_background": "light"
     },
     "output_type": "display_data"
    }
   ],
   "source": [
    "# R\n",
    "plt.bar(df_skills_city.city, df_skills_city.R, align = 'center')\n",
    "plt.xticks(rotation = 90)\n",
    "plt.title('R frequencies for data scientists jobs in different cities')\n",
    "plt.xlabel('City')\n",
    "plt.ylabel('Frequency')\n",
    "plt.show"
   ]
  },
  {
   "cell_type": "code",
   "execution_count": 436,
   "metadata": {},
   "outputs": [
    {
     "data": {
      "text/plain": [
       "<function matplotlib.pyplot.show(*args, **kw)>"
      ]
     },
     "execution_count": 436,
     "metadata": {},
     "output_type": "execute_result"
    },
    {
     "data": {
      "image/png": "[encoded data removed]",
      "text/plain": [
       "<Figure size 432x288 with 1 Axes>"
      ]
     },
     "metadata": {
      "needs_background": "light"
     },
     "output_type": "display_data"
    }
   ],
   "source": [
    "# SQL\n",
    "plt.bar(df_skills_city.city, df_skills_city.SQL, align = 'center')\n",
    "plt.xticks(rotation = 90)\n",
    "plt.title('SQL frequencies for data scientists jobs in different cities')\n",
    "plt.xlabel('City')\n",
    "plt.ylabel('Frequency')\n",
    "plt.show"
   ]
  },
  {
   "cell_type": "code",
   "execution_count": 437,
   "metadata": {},
   "outputs": [
    {
     "data": {
      "text/plain": [
       "<function matplotlib.pyplot.show(*args, **kw)>"
      ]
     },
     "execution_count": 437,
     "metadata": {},
     "output_type": "execute_result"
    },
    {
     "data": {
      "image/png": "[encoded data removed]",
      "text/plain": [
       "<Figure size 432x288 with 1 Axes>"
      ]
     },
     "metadata": {
      "needs_background": "light"
     },
     "output_type": "display_data"
    }
   ],
   "source": [
    "# Hadoop\n",
    "plt.bar(df_skills_city.city, df_skills_city.Hadoop, align = 'center')\n",
    "plt.xticks(rotation = 90)\n",
    "plt.title('Hadoop frequencies for data scientists jobs in different cities')\n",
    "plt.xlabel('City')\n",
    "plt.ylabel('Frequency')\n",
    "plt.show"
   ]
  },
  {
   "cell_type": "code",
   "execution_count": 438,
   "metadata": {},
   "outputs": [
    {
     "data": {
      "text/plain": [
       "<function matplotlib.pyplot.show(*args, **kw)>"
      ]
     },
     "execution_count": 438,
     "metadata": {},
     "output_type": "execute_result"
    },
    {
     "data": {
      "image/png": "[encoded data removed]",
      "text/plain": [
       "<Figure size 432x288 with 1 Axes>"
      ]
     },
     "metadata": {
      "needs_background": "light"
     },
     "output_type": "display_data"
    }
   ],
   "source": [
    "# Hive\n",
    "plt.bar(df_skills_city.city, df_skills_city.Hive, align = 'center')\n",
    "plt.xticks(rotation = 90)\n",
    "plt.title('Hive frequencies for data scientists jobs in different cities')\n",
    "plt.xlabel('City')\n",
    "plt.ylabel('Frequency')\n",
    "plt.show"
   ]
  },
  {
   "cell_type": "code",
   "execution_count": 439,
   "metadata": {},
   "outputs": [
    {
     "data": {
      "text/plain": [
       "<function matplotlib.pyplot.show(*args, **kw)>"
      ]
     },
     "execution_count": 439,
     "metadata": {},
     "output_type": "execute_result"
    },
    {
     "data": {
      "image/png": "[encoded data removed]",
      "text/plain": [
       "<Figure size 432x288 with 1 Axes>"
      ]
     },
     "metadata": {
      "needs_background": "light"
     },
     "output_type": "display_data"
    }
   ],
   "source": [
    "# Pig\n",
    "plt.bar(df_skills_city.city, df_skills_city.Pig, align = 'center')\n",
    "plt.xticks(rotation = 90)\n",
    "plt.title('Pig frequencies for data scientists jobs in different cities')\n",
    "plt.xlabel('City')\n",
    "plt.ylabel('Frequency')\n",
    "plt.show"
   ]
  },
  {
   "cell_type": "code",
   "execution_count": 440,
   "metadata": {},
   "outputs": [
    {
     "data": {
      "text/plain": [
       "<function matplotlib.pyplot.show(*args, **kw)>"
      ]
     },
     "execution_count": 440,
     "metadata": {},
     "output_type": "execute_result"
    },
    {
     "data": {
      "image/png": "[encoded data removed]",
      "text/plain": [
       "<Figure size 432x288 with 1 Axes>"
      ]
     },
     "metadata": {
      "needs_background": "light"
     },
     "output_type": "display_data"
    }
   ],
   "source": [
    "# Spark\n",
    "plt.bar(df_skills_city.city, df_skills_city.Spark, align = 'center')\n",
    "plt.xticks(rotation = 90)\n",
    "plt.title('Spark frequencies for data scientists jobs in different cities')\n",
    "plt.xlabel('City')\n",
    "plt.ylabel('Frequency')\n",
    "plt.show"
   ]
  },
  {
   "cell_type": "code",
   "execution_count": 441,
   "metadata": {},
   "outputs": [
    {
     "data": {
      "text/plain": [
       "<function matplotlib.pyplot.show(*args, **kw)>"
      ]
     },
     "execution_count": 441,
     "metadata": {},
     "output_type": "execute_result"
    },
    {
     "data": {
      "image/png": "[encoded data removed]",
      "text/plain": [
       "<Figure size 432x288 with 1 Axes>"
      ]
     },
     "metadata": {
      "needs_background": "light"
     },
     "output_type": "display_data"
    }
   ],
   "source": [
    "# AWS\n",
    "plt.bar(df_skills_city.city, df_skills_city.AWS, align = 'center')\n",
    "plt.xticks(rotation = 90)\n",
    "plt.title('AWS frequencies for data scientists jobs in different cities')\n",
    "plt.xlabel('City')\n",
    "plt.ylabel('Frequency')\n",
    "plt.show"
   ]
  },
  {
   "cell_type": "code",
   "execution_count": 442,
   "metadata": {},
   "outputs": [
    {
     "data": {
      "text/plain": [
       "<function matplotlib.pyplot.show(*args, **kw)>"
      ]
     },
     "execution_count": 442,
     "metadata": {},
     "output_type": "execute_result"
    },
    {
     "data": {
      "image/png": "[encoded data removed]",
      "text/plain": [
       "<Figure size 432x288 with 1 Axes>"
      ]
     },
     "metadata": {
      "needs_background": "light"
     },
     "output_type": "display_data"
    }
   ],
   "source": [
    "# Tableau\n",
    "plt.bar(df_skills_city.city, df_skills_city.Tableau, align = 'center')\n",
    "plt.xticks(rotation = 90)\n",
    "plt.title('Tableau frequencies for data scientists jobs in different cities')\n",
    "plt.xlabel('City')\n",
    "plt.ylabel('Frequency')\n",
    "plt.show"
   ]
  },
  {
   "cell_type": "markdown",
   "metadata": {},
   "source": [
    "## Question 2 (50 points):\n",
    "Choose one of the following two tasks:\n",
    "\n",
    "A. Visit https://www.indeed.com/Top-Rated-Workplaces, and search for Data Scientist in Los Angeles. Scrape 50 company reviews of the first 50 companies (if fewer than 50, just get the companies names on the first page). Retrieve the company’s name, title of the reviewer, the date of the review, the title, rating, review content, pros, and cons and the review. The output can to be shown in the form of a table. \n",
    "\n",
    "If any of the companies doesn’t have 50 reviews, then you just need to get whatever it has on the website."
   ]
  },
  {
   "cell_type": "code",
   "execution_count": 443,
   "metadata": {},
   "outputs": [
    {
     "name": "stdout",
     "output_type": "stream",
     "text": [
      "49\n"
     ]
    }
   ],
   "source": [
    "# Only 49 compnaies are found in the searching for data scientist in LA using the given website\n",
    "\n",
    "comp_name = []\n",
    "\n",
    "url = \"https://www.indeed.com/cmp?q=Data+Scientist&l=Los+Angeles&from=discovery-cmp-search\"\n",
    "page = urlopen(url)\n",
    "time.sleep(1)\n",
    "soup = BeautifulSoup(page, 'lxml')\n",
    "all_matches = soup.findAll(name = 'a', attrs = {'class':['cmp-CompanyWidget-name']})\n",
    "for cmp in all_matches:\n",
    "    comp_name.append(cmp.text)\n",
    "print(len(comp_name))"
   ]
  },
  {
   "cell_type": "code",
   "execution_count": 447,
   "metadata": {},
   "outputs": [
    {
     "name": "stdout",
     "output_type": "stream",
     "text": [
      "https://www.indeed.com/cmp/Veritone/reviews\n",
      "https://www.indeed.com/cmp/Veritone/reviews?start=20\n",
      "https://www.indeed.com/cmp/Veritone/reviews?start=40\n",
      "https://www.indeed.com/cmp/Hulu/reviews\n",
      "https://www.indeed.com/cmp/Hulu/reviews?start=20\n",
      "https://www.indeed.com/cmp/Hulu/reviews?start=40\n",
      "https://www.indeed.com/cmp/Deloitte/reviews\n",
      "https://www.indeed.com/cmp/Deloitte/reviews?start=20\n",
      "https://www.indeed.com/cmp/Deloitte/reviews?start=40\n",
      "https://www.indeed.com/cmp/City-National-Bank/reviews\n",
      "https://www.indeed.com/cmp/City-National-Bank/reviews?start=20\n",
      "https://www.indeed.com/cmp/City-National-Bank/reviews?start=40\n",
      "https://www.indeed.com/cmp/University-of-California-Los-Angeles/reviews\n",
      "https://www.indeed.com/cmp/University-of-California-Los-Angeles/reviews?start=20\n",
      "https://www.indeed.com/cmp/University-of-California-Los-Angeles/reviews?start=40\n",
      "https://www.indeed.com/cmp/Zs-Associates/reviews\n",
      "https://www.indeed.com/cmp/Zs-Associates/reviews?start=20\n",
      "https://www.indeed.com/cmp/Zs-Associates/reviews?start=40\n",
      "https://www.indeed.com/cmp/Snap-Inc./reviews\n",
      "https://www.indeed.com/cmp/Snap-Inc./reviews?start=20\n",
      "https://www.indeed.com/cmp/Snap-Inc./reviews?start=40\n",
      "https://www.indeed.com/cmp/Ucla-Health/reviews\n",
      "https://www.indeed.com/cmp/Ucla-Health/reviews?start=20\n",
      "https://www.indeed.com/cmp/Ucla-Health/reviews?start=40\n",
      "https://www.indeed.com/cmp/University-of-Southern-California/reviews\n",
      "https://www.indeed.com/cmp/University-of-Southern-California/reviews?start=20\n",
      "https://www.indeed.com/cmp/University-of-Southern-California/reviews?start=40\n",
      "https://www.indeed.com/cmp/Next-Trucking/reviews\n",
      "https://www.indeed.com/cmp/Next-Trucking/reviews?start=20\n",
      "https://www.indeed.com/cmp/Next-Trucking/reviews?start=40\n",
      "https://www.indeed.com/cmp/Kpmg/reviews\n",
      "https://www.indeed.com/cmp/Kpmg/reviews?start=20\n",
      "https://www.indeed.com/cmp/Kpmg/reviews?start=40\n",
      "https://www.indeed.com/cmp/Martin-Luther-King,-Jr.-Community-Hospital/reviews\n",
      "https://www.indeed.com/cmp/Martin-Luther-King,-Jr.-Community-Hospital/reviews?start=20\n",
      "https://www.indeed.com/cmp/Martin-Luther-King,-Jr.-Community-Hospital/reviews?start=40\n",
      "https://www.indeed.com/cmp/Pfizer-Inc./reviews\n",
      "https://www.indeed.com/cmp/Pfizer-Inc./reviews?start=20\n",
      "https://www.indeed.com/cmp/Pfizer-Inc./reviews?start=40\n",
      "https://www.indeed.com/cmp/Riot-Games/reviews\n",
      "https://www.indeed.com/cmp/Riot-Games/reviews?start=20\n",
      "https://www.indeed.com/cmp/Riot-Games/reviews?start=40\n",
      "https://www.indeed.com/cmp/Accenture/reviews\n",
      "https://www.indeed.com/cmp/Accenture/reviews?start=20\n",
      "https://www.indeed.com/cmp/Accenture/reviews?start=40\n",
      "https://www.indeed.com/cmp/Health-Services-Advisory-Group,-Inc./reviews\n",
      "https://www.indeed.com/cmp/Health-Services-Advisory-Group,-Inc./reviews?start=20\n",
      "https://www.indeed.com/cmp/Health-Services-Advisory-Group,-Inc./reviews?start=40\n",
      "https://www.indeed.com/cmp/Uc-SAN-Diego/reviews\n",
      "https://www.indeed.com/cmp/Uc-SAN-Diego/reviews?start=20\n",
      "https://www.indeed.com/cmp/Uc-SAN-Diego/reviews?start=40\n",
      "https://www.indeed.com/cmp/Fabfitfun/reviews\n",
      "https://www.indeed.com/cmp/Fabfitfun/reviews?start=20\n",
      "https://www.indeed.com/cmp/Fabfitfun/reviews?start=40\n",
      "https://www.indeed.com/cmp/Modcloth/reviews\n",
      "https://www.indeed.com/cmp/Modcloth/reviews?start=20\n",
      "https://www.indeed.com/cmp/Modcloth/reviews?start=40\n",
      "https://www.indeed.com/cmp/Cedars--sinai/reviews\n",
      "https://www.indeed.com/cmp/Cedars--sinai/reviews?start=20\n",
      "https://www.indeed.com/cmp/Cedars--sinai/reviews?start=40\n",
      "https://www.indeed.com/cmp/Servicetitan/reviews\n",
      "https://www.indeed.com/cmp/Servicetitan/reviews?start=20\n",
      "https://www.indeed.com/cmp/Servicetitan/reviews?start=40\n",
      "https://www.indeed.com/cmp/Mufg/reviews\n",
      "https://www.indeed.com/cmp/Mufg/reviews?start=20\n",
      "https://www.indeed.com/cmp/Mufg/reviews?start=40\n",
      "https://www.indeed.com/cmp/Viacom/reviews\n",
      "https://www.indeed.com/cmp/Viacom/reviews?start=20\n",
      "https://www.indeed.com/cmp/Viacom/reviews?start=40\n",
      "https://www.indeed.com/cmp/Hyperloop-Transportation-Technologies/reviews\n",
      "https://www.indeed.com/cmp/Hyperloop-Transportation-Technologies/reviews?start=20\n",
      "https://www.indeed.com/cmp/Hyperloop-Transportation-Technologies/reviews?start=40\n",
      "https://www.indeed.com/cmp/Amazon.com/reviews\n",
      "https://www.indeed.com/cmp/Amazon.com/reviews?start=20\n",
      "https://www.indeed.com/cmp/Amazon.com/reviews?start=40\n",
      "https://www.indeed.com/cmp/SAP/reviews\n",
      "https://www.indeed.com/cmp/SAP/reviews?start=20\n",
      "https://www.indeed.com/cmp/SAP/reviews?start=40\n",
      "https://www.indeed.com/cmp/California-State-University/reviews\n",
      "https://www.indeed.com/cmp/California-State-University/reviews?start=20\n",
      "https://www.indeed.com/cmp/California-State-University/reviews?start=40\n",
      "https://www.indeed.com/cmp/American-Heart-Association/reviews\n",
      "https://www.indeed.com/cmp/American-Heart-Association/reviews?start=20\n",
      "https://www.indeed.com/cmp/American-Heart-Association/reviews?start=40\n",
      "https://www.indeed.com/cmp/L.a.-Care-Health-Plan/reviews\n",
      "https://www.indeed.com/cmp/L.a.-Care-Health-Plan/reviews?start=20\n",
      "https://www.indeed.com/cmp/L.a.-Care-Health-Plan/reviews?start=40\n",
      "https://www.indeed.com/cmp/Survios/reviews\n",
      "https://www.indeed.com/cmp/Survios/reviews?start=20\n",
      "https://www.indeed.com/cmp/Survios/reviews?start=40\n",
      "https://www.indeed.com/cmp/Walmart/reviews\n",
      "https://www.indeed.com/cmp/Walmart/reviews?start=20\n",
      "https://www.indeed.com/cmp/Walmart/reviews?start=40\n",
      "https://www.indeed.com/cmp/Dataiku/reviews\n",
      "https://www.indeed.com/cmp/Dataiku/reviews?start=20\n",
      "https://www.indeed.com/cmp/Dataiku/reviews?start=40\n",
      "https://www.indeed.com/cmp/Starz-Entertainment,-LLC/reviews\n",
      "https://www.indeed.com/cmp/Starz-Entertainment,-LLC/reviews?start=20\n",
      "https://www.indeed.com/cmp/Starz-Entertainment,-LLC/reviews?start=40\n",
      "https://www.indeed.com/cmp/General-Assembly/reviews\n",
      "https://www.indeed.com/cmp/General-Assembly/reviews?start=20\n",
      "https://www.indeed.com/cmp/General-Assembly/reviews?start=40\n",
      "https://www.indeed.com/cmp/Citi/reviews\n",
      "https://www.indeed.com/cmp/Citi/reviews?start=20\n",
      "https://www.indeed.com/cmp/Citi/reviews?start=40\n",
      "https://www.indeed.com/cmp/Capgemini/reviews\n",
      "https://www.indeed.com/cmp/Capgemini/reviews?start=20\n",
      "https://www.indeed.com/cmp/Capgemini/reviews?start=40\n",
      "https://www.indeed.com/cmp/Meredith-Corporation/reviews\n",
      "https://www.indeed.com/cmp/Meredith-Corporation/reviews?start=20\n",
      "https://www.indeed.com/cmp/Meredith-Corporation/reviews?start=40\n",
      "https://www.indeed.com/cmp/Third-Republic/reviews\n",
      "https://www.indeed.com/cmp/Third-Republic/reviews?start=20\n",
      "https://www.indeed.com/cmp/Third-Republic/reviews?start=40\n",
      "https://www.indeed.com/cmp/Publicis-Sapient/reviews\n",
      "https://www.indeed.com/cmp/Publicis-Sapient/reviews?start=20\n",
      "https://www.indeed.com/cmp/Publicis-Sapient/reviews?start=40\n",
      "https://www.indeed.com/cmp/Inspire/reviews\n",
      "https://www.indeed.com/cmp/Inspire/reviews?start=20\n",
      "https://www.indeed.com/cmp/Inspire/reviews?start=40\n",
      "https://www.indeed.com/cmp/Google/reviews\n",
      "https://www.indeed.com/cmp/Google/reviews?start=20\n",
      "https://www.indeed.com/cmp/Google/reviews?start=40\n",
      "https://www.indeed.com/cmp/Opendoor/reviews\n",
      "https://www.indeed.com/cmp/Opendoor/reviews?start=20\n",
      "https://www.indeed.com/cmp/Opendoor/reviews?start=40\n",
      "https://www.indeed.com/cmp/Houlihan-Lokey/reviews\n",
      "https://www.indeed.com/cmp/Houlihan-Lokey/reviews?start=20\n",
      "https://www.indeed.com/cmp/Houlihan-Lokey/reviews?start=40\n",
      "https://www.indeed.com/cmp/Union-Bank/reviews\n",
      "https://www.indeed.com/cmp/Union-Bank/reviews?start=20\n",
      "https://www.indeed.com/cmp/Union-Bank/reviews?start=40\n",
      "https://www.indeed.com/cmp/Bridg/reviews\n",
      "https://www.indeed.com/cmp/Bridg/reviews?start=20\n",
      "https://www.indeed.com/cmp/Bridg/reviews?start=40\n",
      "https://www.indeed.com/cmp/Creative-Artists-Agency/reviews\n",
      "https://www.indeed.com/cmp/Creative-Artists-Agency/reviews?start=20\n",
      "https://www.indeed.com/cmp/Creative-Artists-Agency/reviews?start=40\n",
      "https://www.indeed.com/cmp/Infosys/reviews\n",
      "https://www.indeed.com/cmp/Infosys/reviews?start=20\n",
      "https://www.indeed.com/cmp/Infosys/reviews?start=40\n",
      "https://www.indeed.com/cmp/Penn-Schoen-Berland/reviews\n",
      "https://www.indeed.com/cmp/Penn-Schoen-Berland/reviews?start=20\n",
      "https://www.indeed.com/cmp/Penn-Schoen-Berland/reviews?start=40\n",
      "https://www.indeed.com/cmp/Movio/reviews\n",
      "https://www.indeed.com/cmp/Movio/reviews?start=20\n",
      "https://www.indeed.com/cmp/Movio/reviews?start=40\n"
     ]
    }
   ],
   "source": [
    "comp_name = []\n",
    "rev_title = []\n",
    "rev_date = []\n",
    "title = []\n",
    "rating = []\n",
    "rev_cnt = []\n",
    "pros = []\n",
    "cons = []\n",
    "\n",
    "url = \"https://www.indeed.com/cmp?q=Data+Scientist&l=Los+Angeles&from=discovery-cmp-search\"\n",
    "\n",
    "page = urlopen(url)\n",
    "time.sleep(1)\n",
    "soup = BeautifulSoup(page, 'lxml')\n",
    "all_matches = soup.findAll(name = 'a', attrs = {'class':'cmp-CompanyWidget-name'})\n",
    "\n",
    "    \n",
    "for each in all_matches:\n",
    "    rev_url = 'https://www.indeed.com' + each['href'] + '/reviews'\n",
    "    \n",
    "    for i in range(3):\n",
    "\n",
    "        rev_page = urlopen(rev_url)\n",
    "        time.sleep(1)\n",
    "        rev_soup = BeautifulSoup(rev_page, 'lxml')\n",
    "        rev_matches = rev_soup.findAll(name = 'div', attrs = {'class':'cmp-review-container'})\n",
    "        \n",
    "        for container in rev_matches:\n",
    "            comp_name.append(rev_soup.find(name = 'div', attrs = {'itemprop':'name'}).text)\n",
    "            \n",
    "            for a in container.findAll(name = 'div', attrs = {'class':'cmp-review-title'}):\n",
    "                if a == None:\n",
    "                    rev_title.append('n/a')\n",
    "                else:\n",
    "                    rev_title.append(a.span.text)\n",
    "                    \n",
    "            for b in container.findAll(name = 'span', attrs = {'class':'cmp-review-date-created'}):\n",
    "                if b == None:\n",
    "                    rev_date.append('n/a')\n",
    "                else:\n",
    "                    rev_date.append(b.text)\n",
    "                    \n",
    "            for c in container.findAll(name = 'span', attrs = {'class':'cmp-reviewer'}):\n",
    "                if c == None:\n",
    "                    title.append('n/a')\n",
    "                else:\n",
    "                    title.append(c.text)\n",
    "                    \n",
    "            for e in container.findAll(name = 'div', attrs = {'class':'cmp-ratingNumber'}):\n",
    "                if e == None:\n",
    "                    rating.append('n/a')\n",
    "                else:\n",
    "                    rating.append(e.text)\n",
    "                    \n",
    "            for f in container.findAll(name = 'span', attrs = {'itemprop':'reviewBody'}):\n",
    "                if f == None:\n",
    "                    rev_cnt.append('n/a')\n",
    "                else:\n",
    "                    rev_cnt.append(f.text)\n",
    "                    \n",
    "            if not container.find(name = 'div', attrs = {'class':'cmp-review-pro-text'}):\n",
    "                pros.append('n/a')\n",
    "            else:\n",
    "                pros.append(container.find(name = 'div', attrs = {'class':'cmp-review-pro-text'}).text)\n",
    "                \n",
    "            if not container.find(name = 'div', attrs = {'class':'cmp-review-con-text'}):\n",
    "                cons.append('n/a')\n",
    "            else:\n",
    "                cons.append(container.find(name = 'div', attrs = {'class':'cmp-review-con-text'}).text)\n",
    "\n",
    "        print(rev_url)\n",
    "        rev_url = 'https://www.indeed.com' + each['href'] + '/reviews?start=' + str((i+1)*20)"
   ]
  },
  {
   "cell_type": "code",
   "execution_count": 448,
   "metadata": {},
   "outputs": [],
   "source": [
    "df_comp = {'Company': comp_name, \n",
    "              'Reviewer_title': title, \n",
    "              'Date': rev_date, \n",
    "              'Review_title': rev_title, \n",
    "              'Rating': rating, \n",
    "              'Review': rev_cnt, \n",
    "              'Pros': pros, \n",
    "              'Cons': cons}\n",
    "df_company = pd.DataFrame.from_dict(df_comp)"
   ]
  },
  {
   "cell_type": "code",
   "execution_count": 449,
   "metadata": {},
   "outputs": [
    {
     "data": {
      "text/html": [
       "<div>\n",
       "<style scoped>\n",
       "    .dataframe tbody tr th:only-of-type {\n",
       "        vertical-align: middle;\n",
       "    }\n",
       "\n",
       "    .dataframe tbody tr th {\n",
       "        vertical-align: top;\n",
       "    }\n",
       "\n",
       "    .dataframe thead th {\n",
       "        text-align: right;\n",
       "    }\n",
       "</style>\n",
       "<table border=\"1\" class=\"dataframe\">\n",
       "  <thead>\n",
       "    <tr style=\"text-align: right;\">\n",
       "      <th></th>\n",
       "      <th>Company</th>\n",
       "      <th>Reviewer_title</th>\n",
       "      <th>Date</th>\n",
       "      <th>Review_title</th>\n",
       "      <th>Rating</th>\n",
       "      <th>Review</th>\n",
       "      <th>Pros</th>\n",
       "      <th>Cons</th>\n",
       "    </tr>\n",
       "  </thead>\n",
       "  <tbody>\n",
       "    <tr>\n",
       "      <td>0</td>\n",
       "      <td>Veritone</td>\n",
       "      <td>Hopefully not randomly laid-off soon</td>\n",
       "      <td>January 7, 2018</td>\n",
       "      <td>Has potential, but job stability is always in ...</td>\n",
       "      <td>3.0</td>\n",
       "      <td>Too many parts moving at the same time with un...</td>\n",
       "      <td>Cool new industry</td>\n",
       "      <td>Random unexplained lay-offs</td>\n",
       "    </tr>\n",
       "    <tr>\n",
       "      <td>1</td>\n",
       "      <td>Veritone</td>\n",
       "      <td>Software Engineer</td>\n",
       "      <td>June 24, 2019</td>\n",
       "      <td>Great people, but planning leaves something to...</td>\n",
       "      <td>3.0</td>\n",
       "      <td>- Relaxed work hours where most managers don't...</td>\n",
       "      <td>n/a</td>\n",
       "      <td>n/a</td>\n",
       "    </tr>\n",
       "    <tr>\n",
       "      <td>2</td>\n",
       "      <td>Veritone</td>\n",
       "      <td>Data Scientist Intern</td>\n",
       "      <td>January 2, 2019</td>\n",
       "      <td>Good company with creative atomsphere</td>\n",
       "      <td>5.0</td>\n",
       "      <td>A company offers good atmosphere at creative t...</td>\n",
       "      <td>n/a</td>\n",
       "      <td>n/a</td>\n",
       "    </tr>\n",
       "    <tr>\n",
       "      <td>3</td>\n",
       "      <td>Veritone</td>\n",
       "      <td>Director New Business Development</td>\n",
       "      <td>October 2, 2017</td>\n",
       "      <td>Start up company with amazing AI promise</td>\n",
       "      <td>3.0</td>\n",
       "      <td>Great AI resources coming out of this soon to ...</td>\n",
       "      <td>Cutting edge company</td>\n",
       "      <td>Start ups usual challenges</td>\n",
       "    </tr>\n",
       "    <tr>\n",
       "      <td>4</td>\n",
       "      <td>Veritone</td>\n",
       "      <td>Hopefully not randomly laid-off soon</td>\n",
       "      <td>January 7, 2018</td>\n",
       "      <td>Has potential, but job stability is always in ...</td>\n",
       "      <td>3.0</td>\n",
       "      <td>Too many parts moving at the same time with un...</td>\n",
       "      <td>Cool new industry</td>\n",
       "      <td>Random unexplained lay-offs</td>\n",
       "    </tr>\n",
       "    <tr>\n",
       "      <td>...</td>\n",
       "      <td>...</td>\n",
       "      <td>...</td>\n",
       "      <td>...</td>\n",
       "      <td>...</td>\n",
       "      <td>...</td>\n",
       "      <td>...</td>\n",
       "      <td>...</td>\n",
       "      <td>...</td>\n",
       "    </tr>\n",
       "    <tr>\n",
       "      <td>1913</td>\n",
       "      <td>Infosys</td>\n",
       "      <td>Functional Consultant</td>\n",
       "      <td>September 12, 2019</td>\n",
       "      <td>Productive &amp; fun place</td>\n",
       "      <td>4.0</td>\n",
       "      <td>Good for learning but felt lost in the crowd. ...</td>\n",
       "      <td>n/a</td>\n",
       "      <td>n/a</td>\n",
       "    </tr>\n",
       "    <tr>\n",
       "      <td>1914</td>\n",
       "      <td>Infosys</td>\n",
       "      <td>Senior Systems Engineer</td>\n",
       "      <td>September 11, 2019</td>\n",
       "      <td>Compensation is not fair.</td>\n",
       "      <td>1.0</td>\n",
       "      <td>Compensation doesn't match with the market at ...</td>\n",
       "      <td>n/a</td>\n",
       "      <td>n/a</td>\n",
       "    </tr>\n",
       "    <tr>\n",
       "      <td>1915</td>\n",
       "      <td>Penn Schoen Berland</td>\n",
       "      <td>Surveyor</td>\n",
       "      <td>June 11, 2019</td>\n",
       "      <td>Fun work environment</td>\n",
       "      <td>4.0</td>\n",
       "      <td>Typical day included calling out of state to d...</td>\n",
       "      <td>n/a</td>\n",
       "      <td>n/a</td>\n",
       "    </tr>\n",
       "    <tr>\n",
       "      <td>1916</td>\n",
       "      <td>Penn Schoen Berland</td>\n",
       "      <td>International Politics Intern</td>\n",
       "      <td>August 5, 2015</td>\n",
       "      <td>Pretty young and hip workplace</td>\n",
       "      <td>5.0</td>\n",
       "      <td>Most of the people I worked with were younger ...</td>\n",
       "      <td>n/a</td>\n",
       "      <td>n/a</td>\n",
       "    </tr>\n",
       "    <tr>\n",
       "      <td>1917</td>\n",
       "      <td>Penn Schoen Berland</td>\n",
       "      <td>Operations Manager</td>\n",
       "      <td>May 7, 2012</td>\n",
       "      <td>Intelligent people passionate about research</td>\n",
       "      <td>3.0</td>\n",
       "      <td>Interesting clients, fascinating findings are ...</td>\n",
       "      <td>great coworkers</td>\n",
       "      <td>compensation packages seemed low; no 401k plan</td>\n",
       "    </tr>\n",
       "  </tbody>\n",
       "</table>\n",
       "<p>1918 rows × 8 columns</p>\n",
       "</div>"
      ],
      "text/plain": [
       "                  Company                        Reviewer_title  \\\n",
       "0                Veritone  Hopefully not randomly laid-off soon   \n",
       "1                Veritone                     Software Engineer   \n",
       "2                Veritone                 Data Scientist Intern   \n",
       "3                Veritone     Director New Business Development   \n",
       "4                Veritone  Hopefully not randomly laid-off soon   \n",
       "...                   ...                                   ...   \n",
       "1913              Infosys                 Functional Consultant   \n",
       "1914              Infosys               Senior Systems Engineer   \n",
       "1915  Penn Schoen Berland                              Surveyor   \n",
       "1916  Penn Schoen Berland         International Politics Intern   \n",
       "1917  Penn Schoen Berland                    Operations Manager   \n",
       "\n",
       "                    Date                                       Review_title  \\\n",
       "0        January 7, 2018  Has potential, but job stability is always in ...   \n",
       "1          June 24, 2019  Great people, but planning leaves something to...   \n",
       "2        January 2, 2019              Good company with creative atomsphere   \n",
       "3        October 2, 2017           Start up company with amazing AI promise   \n",
       "4        January 7, 2018  Has potential, but job stability is always in ...   \n",
       "...                  ...                                                ...   \n",
       "1913  September 12, 2019                             Productive & fun place   \n",
       "1914  September 11, 2019                          Compensation is not fair.   \n",
       "1915       June 11, 2019                               Fun work environment   \n",
       "1916      August 5, 2015                     Pretty young and hip workplace   \n",
       "1917         May 7, 2012       Intelligent people passionate about research   \n",
       "\n",
       "     Rating                                             Review  \\\n",
       "0       3.0  Too many parts moving at the same time with un...   \n",
       "1       3.0  - Relaxed work hours where most managers don't...   \n",
       "2       5.0  A company offers good atmosphere at creative t...   \n",
       "3       3.0  Great AI resources coming out of this soon to ...   \n",
       "4       3.0  Too many parts moving at the same time with un...   \n",
       "...     ...                                                ...   \n",
       "1913    4.0  Good for learning but felt lost in the crowd. ...   \n",
       "1914    1.0  Compensation doesn't match with the market at ...   \n",
       "1915    4.0  Typical day included calling out of state to d...   \n",
       "1916    5.0  Most of the people I worked with were younger ...   \n",
       "1917    3.0  Interesting clients, fascinating findings are ...   \n",
       "\n",
       "                      Pros                                            Cons  \n",
       "0        Cool new industry                     Random unexplained lay-offs  \n",
       "1                      n/a                                             n/a  \n",
       "2                      n/a                                             n/a  \n",
       "3     Cutting edge company                      Start ups usual challenges  \n",
       "4        Cool new industry                     Random unexplained lay-offs  \n",
       "...                    ...                                             ...  \n",
       "1913                   n/a                                             n/a  \n",
       "1914                   n/a                                             n/a  \n",
       "1915                   n/a                                             n/a  \n",
       "1916                   n/a                                             n/a  \n",
       "1917       great coworkers  compensation packages seemed low; no 401k plan  \n",
       "\n",
       "[1918 rows x 8 columns]"
      ]
     },
     "execution_count": 449,
     "metadata": {},
     "output_type": "execute_result"
    }
   ],
   "source": [
    "df_company"
   ]
  },
  {
   "cell_type": "code",
   "execution_count": 450,
   "metadata": {},
   "outputs": [
    {
     "data": {
      "text/html": [
       "<div>\n",
       "<style scoped>\n",
       "    .dataframe tbody tr th:only-of-type {\n",
       "        vertical-align: middle;\n",
       "    }\n",
       "\n",
       "    .dataframe tbody tr th {\n",
       "        vertical-align: top;\n",
       "    }\n",
       "\n",
       "    .dataframe thead th {\n",
       "        text-align: right;\n",
       "    }\n",
       "</style>\n",
       "<table border=\"1\" class=\"dataframe\">\n",
       "  <thead>\n",
       "    <tr style=\"text-align: right;\">\n",
       "      <th></th>\n",
       "      <th>Company</th>\n",
       "      <th>Reviewer_title</th>\n",
       "      <th>Date</th>\n",
       "      <th>Review_title</th>\n",
       "      <th>Rating</th>\n",
       "      <th>Review</th>\n",
       "      <th>Pros</th>\n",
       "      <th>Cons</th>\n",
       "    </tr>\n",
       "  </thead>\n",
       "  <tbody>\n",
       "    <tr>\n",
       "      <td>0</td>\n",
       "      <td>Veritone</td>\n",
       "      <td>Hopefully not randomly laid-off soon</td>\n",
       "      <td>January 7, 2018</td>\n",
       "      <td>Has potential, but job stability is always in ...</td>\n",
       "      <td>3.0</td>\n",
       "      <td>Too many parts moving at the same time with un...</td>\n",
       "      <td>Cool new industry</td>\n",
       "      <td>Random unexplained lay-offs</td>\n",
       "    </tr>\n",
       "    <tr>\n",
       "      <td>1</td>\n",
       "      <td>Veritone</td>\n",
       "      <td>Software Engineer</td>\n",
       "      <td>June 24, 2019</td>\n",
       "      <td>Great people, but planning leaves something to...</td>\n",
       "      <td>3.0</td>\n",
       "      <td>- Relaxed work hours where most managers don't...</td>\n",
       "      <td>n/a</td>\n",
       "      <td>n/a</td>\n",
       "    </tr>\n",
       "    <tr>\n",
       "      <td>2</td>\n",
       "      <td>Veritone</td>\n",
       "      <td>Data Scientist Intern</td>\n",
       "      <td>January 2, 2019</td>\n",
       "      <td>Good company with creative atomsphere</td>\n",
       "      <td>5.0</td>\n",
       "      <td>A company offers good atmosphere at creative t...</td>\n",
       "      <td>n/a</td>\n",
       "      <td>n/a</td>\n",
       "    </tr>\n",
       "    <tr>\n",
       "      <td>3</td>\n",
       "      <td>Veritone</td>\n",
       "      <td>Director New Business Development</td>\n",
       "      <td>October 2, 2017</td>\n",
       "      <td>Start up company with amazing AI promise</td>\n",
       "      <td>3.0</td>\n",
       "      <td>Great AI resources coming out of this soon to ...</td>\n",
       "      <td>Cutting edge company</td>\n",
       "      <td>Start ups usual challenges</td>\n",
       "    </tr>\n",
       "    <tr>\n",
       "      <td>8</td>\n",
       "      <td>Hulu</td>\n",
       "      <td>Viewer Experience Advocate</td>\n",
       "      <td>October 25, 2019</td>\n",
       "      <td>It's okay</td>\n",
       "      <td>3.0</td>\n",
       "      <td>I loved working here in the beginning. Once th...</td>\n",
       "      <td>n/a</td>\n",
       "      <td>n/a</td>\n",
       "    </tr>\n",
       "    <tr>\n",
       "      <td>...</td>\n",
       "      <td>...</td>\n",
       "      <td>...</td>\n",
       "      <td>...</td>\n",
       "      <td>...</td>\n",
       "      <td>...</td>\n",
       "      <td>...</td>\n",
       "      <td>...</td>\n",
       "      <td>...</td>\n",
       "    </tr>\n",
       "    <tr>\n",
       "      <td>1913</td>\n",
       "      <td>Infosys</td>\n",
       "      <td>Functional Consultant</td>\n",
       "      <td>September 12, 2019</td>\n",
       "      <td>Productive &amp; fun place</td>\n",
       "      <td>4.0</td>\n",
       "      <td>Good for learning but felt lost in the crowd. ...</td>\n",
       "      <td>n/a</td>\n",
       "      <td>n/a</td>\n",
       "    </tr>\n",
       "    <tr>\n",
       "      <td>1914</td>\n",
       "      <td>Infosys</td>\n",
       "      <td>Senior Systems Engineer</td>\n",
       "      <td>September 11, 2019</td>\n",
       "      <td>Compensation is not fair.</td>\n",
       "      <td>1.0</td>\n",
       "      <td>Compensation doesn't match with the market at ...</td>\n",
       "      <td>n/a</td>\n",
       "      <td>n/a</td>\n",
       "    </tr>\n",
       "    <tr>\n",
       "      <td>1915</td>\n",
       "      <td>Penn Schoen Berland</td>\n",
       "      <td>Surveyor</td>\n",
       "      <td>June 11, 2019</td>\n",
       "      <td>Fun work environment</td>\n",
       "      <td>4.0</td>\n",
       "      <td>Typical day included calling out of state to d...</td>\n",
       "      <td>n/a</td>\n",
       "      <td>n/a</td>\n",
       "    </tr>\n",
       "    <tr>\n",
       "      <td>1916</td>\n",
       "      <td>Penn Schoen Berland</td>\n",
       "      <td>International Politics Intern</td>\n",
       "      <td>August 5, 2015</td>\n",
       "      <td>Pretty young and hip workplace</td>\n",
       "      <td>5.0</td>\n",
       "      <td>Most of the people I worked with were younger ...</td>\n",
       "      <td>n/a</td>\n",
       "      <td>n/a</td>\n",
       "    </tr>\n",
       "    <tr>\n",
       "      <td>1917</td>\n",
       "      <td>Penn Schoen Berland</td>\n",
       "      <td>Operations Manager</td>\n",
       "      <td>May 7, 2012</td>\n",
       "      <td>Intelligent people passionate about research</td>\n",
       "      <td>3.0</td>\n",
       "      <td>Interesting clients, fascinating findings are ...</td>\n",
       "      <td>great coworkers</td>\n",
       "      <td>compensation packages seemed low; no 401k plan</td>\n",
       "    </tr>\n",
       "  </tbody>\n",
       "</table>\n",
       "<p>1689 rows × 8 columns</p>\n",
       "</div>"
      ],
      "text/plain": [
       "                  Company                        Reviewer_title  \\\n",
       "0                Veritone  Hopefully not randomly laid-off soon   \n",
       "1                Veritone                     Software Engineer   \n",
       "2                Veritone                 Data Scientist Intern   \n",
       "3                Veritone     Director New Business Development   \n",
       "8                    Hulu            Viewer Experience Advocate   \n",
       "...                   ...                                   ...   \n",
       "1913              Infosys                 Functional Consultant   \n",
       "1914              Infosys               Senior Systems Engineer   \n",
       "1915  Penn Schoen Berland                              Surveyor   \n",
       "1916  Penn Schoen Berland         International Politics Intern   \n",
       "1917  Penn Schoen Berland                    Operations Manager   \n",
       "\n",
       "                    Date                                       Review_title  \\\n",
       "0        January 7, 2018  Has potential, but job stability is always in ...   \n",
       "1          June 24, 2019  Great people, but planning leaves something to...   \n",
       "2        January 2, 2019              Good company with creative atomsphere   \n",
       "3        October 2, 2017           Start up company with amazing AI promise   \n",
       "8       October 25, 2019                                          It's okay   \n",
       "...                  ...                                                ...   \n",
       "1913  September 12, 2019                             Productive & fun place   \n",
       "1914  September 11, 2019                          Compensation is not fair.   \n",
       "1915       June 11, 2019                               Fun work environment   \n",
       "1916      August 5, 2015                     Pretty young and hip workplace   \n",
       "1917         May 7, 2012       Intelligent people passionate about research   \n",
       "\n",
       "     Rating                                             Review  \\\n",
       "0       3.0  Too many parts moving at the same time with un...   \n",
       "1       3.0  - Relaxed work hours where most managers don't...   \n",
       "2       5.0  A company offers good atmosphere at creative t...   \n",
       "3       3.0  Great AI resources coming out of this soon to ...   \n",
       "8       3.0  I loved working here in the beginning. Once th...   \n",
       "...     ...                                                ...   \n",
       "1913    4.0  Good for learning but felt lost in the crowd. ...   \n",
       "1914    1.0  Compensation doesn't match with the market at ...   \n",
       "1915    4.0  Typical day included calling out of state to d...   \n",
       "1916    5.0  Most of the people I worked with were younger ...   \n",
       "1917    3.0  Interesting clients, fascinating findings are ...   \n",
       "\n",
       "                      Pros                                            Cons  \n",
       "0        Cool new industry                     Random unexplained lay-offs  \n",
       "1                      n/a                                             n/a  \n",
       "2                      n/a                                             n/a  \n",
       "3     Cutting edge company                      Start ups usual challenges  \n",
       "8                      n/a                                             n/a  \n",
       "...                    ...                                             ...  \n",
       "1913                   n/a                                             n/a  \n",
       "1914                   n/a                                             n/a  \n",
       "1915                   n/a                                             n/a  \n",
       "1916                   n/a                                             n/a  \n",
       "1917       great coworkers  compensation packages seemed low; no 401k plan  \n",
       "\n",
       "[1689 rows x 8 columns]"
      ]
     },
     "execution_count": 450,
     "metadata": {},
     "output_type": "execute_result"
    }
   ],
   "source": [
    "df_company_cleaned = df_company.drop_duplicates(subset = ['Reviewer_title', 'Review_title', 'Date', 'Rating'], keep = 'first') \n",
    "df_company_cleaned"
   ]
  },
  {
   "cell_type": "code",
   "execution_count": 451,
   "metadata": {},
   "outputs": [],
   "source": [
    "export_csv = df_company_cleaned.to_csv (r'export_dataframe_company_10302019.csv', index = None, header = True)"
   ]
  },
  {
   "cell_type": "code",
   "execution_count": null,
   "metadata": {},
   "outputs": [],
   "source": []
  }
 ],
 "metadata": {
  "kernelspec": {
   "display_name": "Python 3",
   "language": "python",
   "name": "python3"
  },
  "language_info": {
   "codemirror_mode": {
    "name": "ipython",
    "version": 3
   },
   "file_extension": ".py",
   "mimetype": "text/x-python",
   "name": "python",
   "nbconvert_exporter": "python",
   "pygments_lexer": "ipython3",
   "version": "3.7.3"
  }
 },
 "nbformat": 4,
 "nbformat_minor": 2
}
